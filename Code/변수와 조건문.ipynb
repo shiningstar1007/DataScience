{
 "cells": [
  {
   "cell_type": "code",
   "execution_count": 8,
   "metadata": {},
   "outputs": [
    {
     "name": "stdout",
     "output_type": "stream",
     "text": [
      "<class 'int'> <class 'float'> <class 'bool'> <class 'str'>\n"
     ]
    }
   ],
   "source": [
    "# 변수의 선언  \n",
    "intValue = 0 \n",
    "floatValue = 0.0\n",
    "boolValue = True  \n",
    "strValue =\"\" \n",
    "\n",
    "print(type(intValue), type(floatValue), type(boolValue), type(strValue))"
   ]
  },
  {
   "cell_type": "code",
   "execution_count": 1,
   "metadata": {},
   "outputs": [
    {
     "name": "stdout",
     "output_type": "stream",
     "text": [
      "해당 조건은 참\n"
     ]
    }
   ],
   "source": [
    "# if ~else 문 작성 시 다음에 실행할 문장은 if문 다음 줄에서 들여쓰기\n",
    "# if 문 실행에 대한 실행문 2개 (X)  \n",
    "intValue = 30  \n",
    "if intValue < 20 :  \n",
    "    print(\"intValue는 20보다 작다.\")\n",
    "    \n",
    "print(\"해당 조건은 참\")  "
   ]
  },
  {
   "cell_type": "code",
   "execution_count": 2,
   "metadata": {},
   "outputs": [
    {
     "name": "stdout",
     "output_type": "stream",
     "text": [
      "value는 20보다 작다.\n"
     ]
    }
   ],
   "source": [
    "# if ~ else 실행에 대한 실행문 1개 (O)  \n",
    "\n",
    "intValue = 10  \n",
    "if intValue < 20 :  \n",
    "    print(\"intValue는 20보다 작다.\") # 참  \n",
    "else :  \n",
    "    print(\"intValue는 20보다 크다.\") # 거짓  "
   ]
  },
  {
   "cell_type": "code",
   "execution_count": 9,
   "metadata": {},
   "outputs": [
    {
     "name": "stdout",
     "output_type": "stream",
     "text": [
      "intValue는 20보다 작다.\n",
      "해당 조건은 참\n"
     ]
    }
   ],
   "source": [
    "# 조건문 실행에 대한 실행문 2개  \n",
    "\n",
    "intValue = 10  \n",
    "if intValue < 20 :  \n",
    "    print(\"intValue는 20보다 작다.\")  \n",
    "    print(\"해당 조건은 참\")  \n",
    "else :  \n",
    "    print(\"intValue는 20보다 크다.\")  \n",
    "    printf(\"해당 조건은 거짓\")  "
   ]
  },
  {
   "cell_type": "code",
   "execution_count": 16,
   "metadata": {},
   "outputs": [
    {
     "name": "stdout",
     "output_type": "stream",
     "text": [
      "intValue는 10보다 크다.\n",
      "해당 조건은 참\n"
     ]
    }
   ],
   "source": [
    "# 조건문 if ~elif ~else 문\n",
    "\n",
    "intValue = 15 \n",
    "if intValue > 20 :  \n",
    "    print(\"intValue는 20보다 크다.\")  \n",
    "    print(\"해당 조건은 참\") \n",
    "elif intValue > 10 :\n",
    "    print(\"intValue는 10보다 크다.\")  \n",
    "    print(\"해당 조건은 참\") \n",
    "else :  \n",
    "    print(\"intValue는 10보다 작다.\")  \n",
    "    print(\"해당 조건은 거짓\")  "
   ]
  },
  {
   "cell_type": "code",
   "execution_count": 5,
   "metadata": {},
   "outputs": [
    {
     "data": {
      "text/plain": [
       "'통과'"
      ]
     },
     "execution_count": 5,
     "metadata": {},
     "output_type": "execute_result"
    }
   ],
   "source": [
    "# 삼항 연산자를 사용한 if ~ else 문  \n",
    "\n",
    "intValue = 90  \n",
    "stringRes = '통과' if intValue >= 80 else '탈락'  \n",
    "\n",
    "stringRes"
   ]
  },
  {
   "cell_type": "code",
   "execution_count": 7,
   "metadata": {},
   "outputs": [
    {
     "name": "stdout",
     "output_type": "stream",
     "text": [
      "5만원을 가지고 있다.\n"
     ]
    }
   ],
   "source": [
    "# in, not in을 활용한 if 문  money = ['5만원', '1만원' , '5천원', '1천원']  \n",
    "money = ['5만원', '1만원' , '5천원', '1천원']  \n",
    "\n",
    "if '5만원' in money :  \n",
    "    print(\"5만원을 가지고 있다.\")  "
   ]
  },
  {
   "cell_type": "code",
   "execution_count": null,
   "metadata": {},
   "outputs": [],
   "source": []
  }
 ],
 "metadata": {
  "kernelspec": {
   "display_name": "Python 3",
   "language": "python",
   "name": "python3"
  },
  "language_info": {
   "codemirror_mode": {
    "name": "ipython",
    "version": 3
   },
   "file_extension": ".py",
   "mimetype": "text/x-python",
   "name": "python",
   "nbconvert_exporter": "python",
   "pygments_lexer": "ipython3",
   "version": "3.8.5"
  }
 },
 "nbformat": 4,
 "nbformat_minor": 4
}
