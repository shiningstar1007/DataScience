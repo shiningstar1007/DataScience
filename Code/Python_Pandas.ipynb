{
 "cells": [
  {
   "cell_type": "code",
   "execution_count": 5,
   "metadata": {},
   "outputs": [
    {
     "name": "stdout",
     "output_type": "stream",
     "text": [
      "<class 'pandas.core.series.Series'>\n"
     ]
    },
    {
     "data": {
      "text/plain": [
       "0     딸기\n",
       "1     사과\n",
       "2     포도\n",
       "3    바나나\n",
       "4     멜론\n",
       "5     수박\n",
       "dtype: object"
      ]
     },
     "execution_count": 5,
     "metadata": {},
     "output_type": "execute_result"
    }
   ],
   "source": [
    "# List -> Series\n",
    "import pandas as pd\n",
    "\n",
    "list_Data = ['딸기', '사과', '포도', '바나나', '멜론', '수박']  \n",
    "series_Data = pd.Series(list_Data)  \n",
    "print(type(series_Data))  \n",
    "series_Data   "
   ]
  },
  {
   "cell_type": "code",
   "execution_count": 6,
   "metadata": {},
   "outputs": [
    {
     "name": "stdout",
     "output_type": "stream",
     "text": [
      "<class 'pandas.core.series.Series'>\n"
     ]
    },
    {
     "data": {
      "text/plain": [
       "사과     1000\n",
       "배      2000\n",
       "바나나    3000\n",
       "dtype: int64"
      ]
     },
     "execution_count": 6,
     "metadata": {},
     "output_type": "execute_result"
    }
   ],
   "source": [
    "# Series 사용 \n",
    "\n",
    "series_Data = pd.Series({'사과':1000, '배':2000, '바나나':3000})  \n",
    "print(type(series_Data))  \n",
    "series_Data   "
   ]
  },
  {
   "cell_type": "code",
   "execution_count": 7,
   "metadata": {},
   "outputs": [
    {
     "name": "stdout",
     "output_type": "stream",
     "text": [
      "이름             사과\n",
      "가격           1000\n",
      "생산일    2020-11-25\n",
      "dtype: object \n",
      "\n",
      "사과 사과 \n",
      "\n",
      "가격           1000\n",
      "생산일    2020-11-25\n",
      "dtype: object \n",
      "\n",
      "가격           1000\n",
      "생산일    2020-11-25\n",
      "dtype: object \n",
      "\n",
      "가격    1000\n",
      "dtype: object \n",
      "\n",
      "가격           1000\n",
      "생산일    2020-11-25\n",
      "dtype: object\n"
     ]
    }
   ],
   "source": [
    "# Index 사용 \n",
    "tuple_Data = ('사과', 1000, '2020-11-25')  \n",
    "series_Data = pd.Series(tuple_Data, index=['이름', '가격', '생산일'])  \n",
    "print(series_Data,\"\\n\")  \n",
    "print(series_Data[0], series_Data['이름'],\"\\n\")  # 인덱스 명 또는 위치로 조회  \n",
    "print(series_Data[[1,2]],\"\\n\")  # 인덱스 위치를 리스트 형태로 지정 후 조회   \n",
    "print(series_Data[['가격','생산일']],\"\\n\") # 인덱스 명을 리스트 형태로 지정 후 조회  \n",
    "print(series_Data[1:2],\"\\n\")  # 인덱스 위치를 범위 형태로 지정 후 조회   \n",
    "print(series_Data['가격':'생산일']) # 인덱스 명으로 범위 조회 시 지정한 인덱스 명까지 조회  "
   ]
  },
  {
   "cell_type": "code",
   "execution_count": 9,
   "metadata": {},
   "outputs": [
    {
     "name": "stdout",
     "output_type": "stream",
     "text": [
      "<class 'pandas.core.frame.DataFrame'>\n"
     ]
    },
    {
     "data": {
      "text/html": [
       "<div>\n",
       "<style scoped>\n",
       "    .dataframe tbody tr th:only-of-type {\n",
       "        vertical-align: middle;\n",
       "    }\n",
       "\n",
       "    .dataframe tbody tr th {\n",
       "        vertical-align: top;\n",
       "    }\n",
       "\n",
       "    .dataframe thead th {\n",
       "        text-align: right;\n",
       "    }\n",
       "</style>\n",
       "<table border=\"1\" class=\"dataframe\">\n",
       "  <thead>\n",
       "    <tr style=\"text-align: right;\">\n",
       "      <th></th>\n",
       "      <th>사과</th>\n",
       "      <th>배</th>\n",
       "      <th>바나나</th>\n",
       "    </tr>\n",
       "  </thead>\n",
       "  <tbody>\n",
       "    <tr>\n",
       "      <th>0</th>\n",
       "      <td>1000</td>\n",
       "      <td>2000</td>\n",
       "      <td>3000</td>\n",
       "    </tr>\n",
       "    <tr>\n",
       "      <th>1</th>\n",
       "      <td>2020-11-25</td>\n",
       "      <td>2020-11-24</td>\n",
       "      <td>2020-11-20</td>\n",
       "    </tr>\n",
       "  </tbody>\n",
       "</table>\n",
       "</div>"
      ],
      "text/plain": [
       "           사과           배         바나나\n",
       "0        1000        2000        3000\n",
       "1  2020-11-25  2020-11-24  2020-11-20"
      ]
     },
     "execution_count": 9,
     "metadata": {},
     "output_type": "execute_result"
    }
   ],
   "source": [
    "# DataFrame 사용 \n",
    "\n",
    "dataFrame_Data = pd.DataFrame({'사과':[1000,'2020-11-25'], '배':[2000,'2020-11-24'], '바나나':[3000,'2020-11-20']})\n",
    "print(type(dataFrame_Data))  \n",
    "dataFrame_Data"
   ]
  },
  {
   "cell_type": "code",
   "execution_count": 11,
   "metadata": {},
   "outputs": [
    {
     "data": {
      "text/html": [
       "<div>\n",
       "<style scoped>\n",
       "    .dataframe tbody tr th:only-of-type {\n",
       "        vertical-align: middle;\n",
       "    }\n",
       "\n",
       "    .dataframe tbody tr th {\n",
       "        vertical-align: top;\n",
       "    }\n",
       "\n",
       "    .dataframe thead th {\n",
       "        text-align: right;\n",
       "    }\n",
       "</style>\n",
       "<table border=\"1\" class=\"dataframe\">\n",
       "  <thead>\n",
       "    <tr style=\"text-align: right;\">\n",
       "      <th></th>\n",
       "      <th>가격</th>\n",
       "      <th>생산일</th>\n",
       "      <th>남은 개수</th>\n",
       "    </tr>\n",
       "  </thead>\n",
       "  <tbody>\n",
       "    <tr>\n",
       "      <th>사과</th>\n",
       "      <td>1000</td>\n",
       "      <td>2020-11-25</td>\n",
       "      <td>5</td>\n",
       "    </tr>\n",
       "    <tr>\n",
       "      <th>배</th>\n",
       "      <td>2000</td>\n",
       "      <td>2020-11-24</td>\n",
       "      <td>3</td>\n",
       "    </tr>\n",
       "    <tr>\n",
       "      <th>바나나</th>\n",
       "      <td>3000</td>\n",
       "      <td>2020-11-20</td>\n",
       "      <td>7</td>\n",
       "    </tr>\n",
       "  </tbody>\n",
       "</table>\n",
       "</div>"
      ],
      "text/plain": [
       "       가격         생산일  남은 개수\n",
       "사과   1000  2020-11-25      5\n",
       "배    2000  2020-11-24      3\n",
       "바나나  3000  2020-11-20      7"
      ]
     },
     "execution_count": 11,
     "metadata": {},
     "output_type": "execute_result"
    }
   ],
   "source": [
    "# 행 인덱스/열 이름 설정  \n",
    "dataFrame_Data = pd.DataFrame([[1000,'2020-11-25', 5],   \n",
    "                               [2000,'2020-11-24', 3],   \n",
    "                               [3000,'2020-11-20', 7]],  \n",
    "                              index=['사과', '배', '바나나'],  \n",
    "                              columns=['가격', '생산일', '남은 개수'])  \n",
    "dataFrame_Data"
   ]
  },
  {
   "cell_type": "code",
   "execution_count": 21,
   "metadata": {},
   "outputs": [
    {
     "data": {
      "text/html": [
       "<div>\n",
       "<style scoped>\n",
       "    .dataframe tbody tr th:only-of-type {\n",
       "        vertical-align: middle;\n",
       "    }\n",
       "\n",
       "    .dataframe tbody tr th {\n",
       "        vertical-align: top;\n",
       "    }\n",
       "\n",
       "    .dataframe thead th {\n",
       "        text-align: right;\n",
       "    }\n",
       "</style>\n",
       "<table border=\"1\" class=\"dataframe\">\n",
       "  <thead>\n",
       "    <tr style=\"text-align: right;\">\n",
       "      <th></th>\n",
       "      <th>금액</th>\n",
       "      <th>유통기한</th>\n",
       "      <th>판매 개수</th>\n",
       "    </tr>\n",
       "  </thead>\n",
       "  <tbody>\n",
       "    <tr>\n",
       "      <th>딸기</th>\n",
       "      <td>1000</td>\n",
       "      <td>2020-11-25</td>\n",
       "      <td>5</td>\n",
       "    </tr>\n",
       "    <tr>\n",
       "      <th>귤</th>\n",
       "      <td>2000</td>\n",
       "      <td>2020-11-24</td>\n",
       "      <td>3</td>\n",
       "    </tr>\n",
       "    <tr>\n",
       "      <th>오렌지</th>\n",
       "      <td>3000</td>\n",
       "      <td>2020-11-20</td>\n",
       "      <td>7</td>\n",
       "    </tr>\n",
       "  </tbody>\n",
       "</table>\n",
       "</div>"
      ],
      "text/plain": [
       "       금액        유통기한  판매 개수\n",
       "딸기   1000  2020-11-25      5\n",
       "귤    2000  2020-11-24      3\n",
       "오렌지  3000  2020-11-20      7"
      ]
     },
     "execution_count": 21,
     "metadata": {},
     "output_type": "execute_result"
    }
   ],
   "source": [
    "# 행 인덱스/열 이름 설정  \n",
    "dataFrame_Data.index=['딸기', '귤', '오렌지']  \n",
    "dataFrame_Data.columns=['금액', '유통기한', '판매 개수']  \n",
    "dataFrame_Data"
   ]
  },
  {
   "cell_type": "code",
   "execution_count": 22,
   "metadata": {},
   "outputs": [
    {
     "name": "stdout",
     "output_type": "stream",
     "text": [
      "Index: Index(['딸기', '귤', '오렌지'], dtype='object')\n",
      "columns: Index(['금액', '유통기한', '판매 개수'], dtype='object')\n"
     ]
    }
   ],
   "source": [
    "# 행 인덱스/열 이름 출력\n",
    "print(\"Index:\", dataFrame_Data.index)  \n",
    "print(\"columns:\", dataFrame_Data.columns)  "
   ]
  },
  {
   "cell_type": "code",
   "execution_count": 23,
   "metadata": {},
   "outputs": [
    {
     "data": {
      "text/html": [
       "<div>\n",
       "<style scoped>\n",
       "    .dataframe tbody tr th:only-of-type {\n",
       "        vertical-align: middle;\n",
       "    }\n",
       "\n",
       "    .dataframe tbody tr th {\n",
       "        vertical-align: top;\n",
       "    }\n",
       "\n",
       "    .dataframe thead th {\n",
       "        text-align: right;\n",
       "    }\n",
       "</style>\n",
       "<table border=\"1\" class=\"dataframe\">\n",
       "  <thead>\n",
       "    <tr style=\"text-align: right;\">\n",
       "      <th></th>\n",
       "      <th>금액</th>\n",
       "      <th>유통기한</th>\n",
       "      <th>재고</th>\n",
       "    </tr>\n",
       "  </thead>\n",
       "  <tbody>\n",
       "    <tr>\n",
       "      <th>포도</th>\n",
       "      <td>1000</td>\n",
       "      <td>2020-11-25</td>\n",
       "      <td>5</td>\n",
       "    </tr>\n",
       "    <tr>\n",
       "      <th>귤</th>\n",
       "      <td>2000</td>\n",
       "      <td>2020-11-24</td>\n",
       "      <td>3</td>\n",
       "    </tr>\n",
       "    <tr>\n",
       "      <th>오렌지</th>\n",
       "      <td>3000</td>\n",
       "      <td>2020-11-20</td>\n",
       "      <td>7</td>\n",
       "    </tr>\n",
       "  </tbody>\n",
       "</table>\n",
       "</div>"
      ],
      "text/plain": [
       "       금액        유통기한  재고\n",
       "포도   1000  2020-11-25   5\n",
       "귤    2000  2020-11-24   3\n",
       "오렌지  3000  2020-11-20   7"
      ]
     },
     "execution_count": 23,
     "metadata": {},
     "output_type": "execute_result"
    }
   ],
   "source": [
    "# 행 인덱스/열 이름 변경  \n",
    "dataFrame_Data.rename(index={'딸기':'포도'}, columns={'판매 개수':'재고'} , inplace=True)  \n",
    "dataFrame_Data"
   ]
  },
  {
   "cell_type": "code",
   "execution_count": 39,
   "metadata": {},
   "outputs": [
    {
     "data": {
      "text/html": [
       "<div>\n",
       "<style scoped>\n",
       "    .dataframe tbody tr th:only-of-type {\n",
       "        vertical-align: middle;\n",
       "    }\n",
       "\n",
       "    .dataframe tbody tr th {\n",
       "        vertical-align: top;\n",
       "    }\n",
       "\n",
       "    .dataframe thead th {\n",
       "        text-align: right;\n",
       "    }\n",
       "</style>\n",
       "<table border=\"1\" class=\"dataframe\">\n",
       "  <thead>\n",
       "    <tr style=\"text-align: right;\">\n",
       "      <th></th>\n",
       "      <th>금액</th>\n",
       "      <th>유통기한</th>\n",
       "      <th>재고</th>\n",
       "      <th>반품 개수</th>\n",
       "    </tr>\n",
       "  </thead>\n",
       "  <tbody>\n",
       "    <tr>\n",
       "      <th>포도</th>\n",
       "      <td>1000</td>\n",
       "      <td>2020-11-25</td>\n",
       "      <td>5</td>\n",
       "      <td>3</td>\n",
       "    </tr>\n",
       "    <tr>\n",
       "      <th>귤</th>\n",
       "      <td>2000</td>\n",
       "      <td>2020-11-24</td>\n",
       "      <td>3</td>\n",
       "      <td>3</td>\n",
       "    </tr>\n",
       "    <tr>\n",
       "      <th>오렌지</th>\n",
       "      <td>3000</td>\n",
       "      <td>2020-11-20</td>\n",
       "      <td>7</td>\n",
       "      <td>3</td>\n",
       "    </tr>\n",
       "    <tr>\n",
       "      <th>사과</th>\n",
       "      <td>1000</td>\n",
       "      <td>2020-11-25</td>\n",
       "      <td>5</td>\n",
       "      <td>3</td>\n",
       "    </tr>\n",
       "  </tbody>\n",
       "</table>\n",
       "</div>"
      ],
      "text/plain": [
       "       금액        유통기한  재고  반품 개수\n",
       "포도   1000  2020-11-25   5      3\n",
       "귤    2000  2020-11-24   3      3\n",
       "오렌지  3000  2020-11-20   7      3\n",
       "사과   1000  2020-11-25   5      3"
      ]
     },
     "execution_count": 39,
     "metadata": {},
     "output_type": "execute_result"
    }
   ],
   "source": [
    "# 행 인덱스 추가\n",
    "dataFrame_Data.loc['사과'] = [1000,'2020-11-25', 5]\n",
    "\n",
    "#열 이름 추가\n",
    "dataFrame_Data['반품 개수'] = 3\n",
    "\n",
    "dataFrame_Data"
   ]
  },
  {
   "cell_type": "code",
   "execution_count": 40,
   "metadata": {},
   "outputs": [
    {
     "data": {
      "text/html": [
       "<div>\n",
       "<style scoped>\n",
       "    .dataframe tbody tr th:only-of-type {\n",
       "        vertical-align: middle;\n",
       "    }\n",
       "\n",
       "    .dataframe tbody tr th {\n",
       "        vertical-align: top;\n",
       "    }\n",
       "\n",
       "    .dataframe thead th {\n",
       "        text-align: right;\n",
       "    }\n",
       "</style>\n",
       "<table border=\"1\" class=\"dataframe\">\n",
       "  <thead>\n",
       "    <tr style=\"text-align: right;\">\n",
       "      <th></th>\n",
       "      <th>금액</th>\n",
       "      <th>유통기한</th>\n",
       "      <th>재고</th>\n",
       "    </tr>\n",
       "  </thead>\n",
       "  <tbody>\n",
       "    <tr>\n",
       "      <th>포도</th>\n",
       "      <td>1000</td>\n",
       "      <td>2020-11-25</td>\n",
       "      <td>5</td>\n",
       "    </tr>\n",
       "    <tr>\n",
       "      <th>귤</th>\n",
       "      <td>2000</td>\n",
       "      <td>2020-11-24</td>\n",
       "      <td>3</td>\n",
       "    </tr>\n",
       "    <tr>\n",
       "      <th>오렌지</th>\n",
       "      <td>3000</td>\n",
       "      <td>2020-11-20</td>\n",
       "      <td>7</td>\n",
       "    </tr>\n",
       "  </tbody>\n",
       "</table>\n",
       "</div>"
      ],
      "text/plain": [
       "       금액        유통기한  재고\n",
       "포도   1000  2020-11-25   5\n",
       "귤    2000  2020-11-24   3\n",
       "오렌지  3000  2020-11-20   7"
      ]
     },
     "execution_count": 40,
     "metadata": {},
     "output_type": "execute_result"
    }
   ],
   "source": [
    "# 행 인덱스/열 이름 삭제  \n",
    "dataFrame_Data.drop('사과', axis=0, inplace=True)  \n",
    "dataFrame_Data.drop('반품 개수', axis=1, inplace=True) \n",
    "dataFrame_Data"
   ]
  },
  {
   "cell_type": "code",
   "execution_count": 46,
   "metadata": {},
   "outputs": [
    {
     "name": "stdout",
     "output_type": "stream",
     "text": [
      "<class 'pandas.core.series.Series'>\n"
     ]
    },
    {
     "data": {
      "text/plain": [
       "금액            2000\n",
       "유통기한    2020-11-24\n",
       "재고               3\n",
       "Name: 귤, dtype: object"
      ]
     },
     "execution_count": 46,
     "metadata": {},
     "output_type": "execute_result"
    }
   ],
   "source": [
    "# 행 선택, 단일\n",
    "label_Data = dataFrame_Data.loc['귤'] #or pos_Data = dataFrame_Data.iloc[0]  \n",
    "print(type(label_Data))\n",
    "label_Data"
   ]
  },
  {
   "cell_type": "code",
   "execution_count": 47,
   "metadata": {},
   "outputs": [
    {
     "name": "stdout",
     "output_type": "stream",
     "text": [
      "<class 'pandas.core.frame.DataFrame'>\n"
     ]
    },
    {
     "data": {
      "text/html": [
       "<div>\n",
       "<style scoped>\n",
       "    .dataframe tbody tr th:only-of-type {\n",
       "        vertical-align: middle;\n",
       "    }\n",
       "\n",
       "    .dataframe tbody tr th {\n",
       "        vertical-align: top;\n",
       "    }\n",
       "\n",
       "    .dataframe thead th {\n",
       "        text-align: right;\n",
       "    }\n",
       "</style>\n",
       "<table border=\"1\" class=\"dataframe\">\n",
       "  <thead>\n",
       "    <tr style=\"text-align: right;\">\n",
       "      <th></th>\n",
       "      <th>금액</th>\n",
       "      <th>유통기한</th>\n",
       "      <th>재고</th>\n",
       "    </tr>\n",
       "  </thead>\n",
       "  <tbody>\n",
       "    <tr>\n",
       "      <th>포도</th>\n",
       "      <td>1000</td>\n",
       "      <td>2020-11-25</td>\n",
       "      <td>5</td>\n",
       "    </tr>\n",
       "    <tr>\n",
       "      <th>오렌지</th>\n",
       "      <td>3000</td>\n",
       "      <td>2020-11-20</td>\n",
       "      <td>7</td>\n",
       "    </tr>\n",
       "  </tbody>\n",
       "</table>\n",
       "</div>"
      ],
      "text/plain": [
       "       금액        유통기한  재고\n",
       "포도   1000  2020-11-25   5\n",
       "오렌지  3000  2020-11-20   7"
      ]
     },
     "execution_count": 47,
     "metadata": {},
     "output_type": "execute_result"
    }
   ],
   "source": [
    "#행 선택, 멀티\n",
    "label_Data = dataFrame_Data.loc[['포도','오렌지']] #or pos_Data = dataFrame_Data.iloc[[0,2]]   \n",
    "print(type(label_Data))\n",
    "label_Data"
   ]
  },
  {
   "cell_type": "code",
   "execution_count": 56,
   "metadata": {},
   "outputs": [
    {
     "data": {
      "text/html": [
       "<div>\n",
       "<style scoped>\n",
       "    .dataframe tbody tr th:only-of-type {\n",
       "        vertical-align: middle;\n",
       "    }\n",
       "\n",
       "    .dataframe tbody tr th {\n",
       "        vertical-align: top;\n",
       "    }\n",
       "\n",
       "    .dataframe thead th {\n",
       "        text-align: right;\n",
       "    }\n",
       "</style>\n",
       "<table border=\"1\" class=\"dataframe\">\n",
       "  <thead>\n",
       "    <tr style=\"text-align: right;\">\n",
       "      <th></th>\n",
       "      <th>금액</th>\n",
       "      <th>유통기한</th>\n",
       "      <th>재고</th>\n",
       "    </tr>\n",
       "  </thead>\n",
       "  <tbody>\n",
       "    <tr>\n",
       "      <th>포도</th>\n",
       "      <td>1000</td>\n",
       "      <td>2020-11-25</td>\n",
       "      <td>5</td>\n",
       "    </tr>\n",
       "    <tr>\n",
       "      <th>귤</th>\n",
       "      <td>2000</td>\n",
       "      <td>2020-11-24</td>\n",
       "      <td>3</td>\n",
       "    </tr>\n",
       "    <tr>\n",
       "      <th>오렌지</th>\n",
       "      <td>3000</td>\n",
       "      <td>2020-11-20</td>\n",
       "      <td>7</td>\n",
       "    </tr>\n",
       "    <tr>\n",
       "      <th>사과</th>\n",
       "      <td>1000</td>\n",
       "      <td>2020-11-25</td>\n",
       "      <td>5</td>\n",
       "    </tr>\n",
       "    <tr>\n",
       "      <th>배</th>\n",
       "      <td>5000</td>\n",
       "      <td>2020-12-15</td>\n",
       "      <td>3</td>\n",
       "    </tr>\n",
       "  </tbody>\n",
       "</table>\n",
       "</div>"
      ],
      "text/plain": [
       "       금액        유통기한  재고\n",
       "포도   1000  2020-11-25   5\n",
       "귤    2000  2020-11-24   3\n",
       "오렌지  3000  2020-11-20   7\n",
       "사과   1000  2020-11-25   5\n",
       "배    5000  2020-12-15   3"
      ]
     },
     "execution_count": 56,
     "metadata": {},
     "output_type": "execute_result"
    }
   ],
   "source": [
    "# 행 선택, 범위\n",
    "\n",
    "dataFrame_Data.loc['사과'] = [1000,'2020-11-25', 5]\n",
    "dataFrame_Data.loc['배'] = [5000,'2020-12-15', 3]\n",
    "dataFrame_Data.loc['딸기'] = [7000,'2021-02-17', 2]\n",
    "\n",
    "label_Data = dataFrame_Data.loc['포도':'배']  \n",
    "label_Data"
   ]
  },
  {
   "cell_type": "code",
   "execution_count": 51,
   "metadata": {},
   "outputs": [
    {
     "data": {
      "text/html": [
       "<div>\n",
       "<style scoped>\n",
       "    .dataframe tbody tr th:only-of-type {\n",
       "        vertical-align: middle;\n",
       "    }\n",
       "\n",
       "    .dataframe tbody tr th {\n",
       "        vertical-align: top;\n",
       "    }\n",
       "\n",
       "    .dataframe thead th {\n",
       "        text-align: right;\n",
       "    }\n",
       "</style>\n",
       "<table border=\"1\" class=\"dataframe\">\n",
       "  <thead>\n",
       "    <tr style=\"text-align: right;\">\n",
       "      <th></th>\n",
       "      <th>금액</th>\n",
       "      <th>유통기한</th>\n",
       "      <th>재고</th>\n",
       "    </tr>\n",
       "  </thead>\n",
       "  <tbody>\n",
       "    <tr>\n",
       "      <th>포도</th>\n",
       "      <td>1000</td>\n",
       "      <td>2020-11-25</td>\n",
       "      <td>5</td>\n",
       "    </tr>\n",
       "    <tr>\n",
       "      <th>귤</th>\n",
       "      <td>2000</td>\n",
       "      <td>2020-11-24</td>\n",
       "      <td>3</td>\n",
       "    </tr>\n",
       "  </tbody>\n",
       "</table>\n",
       "</div>"
      ],
      "text/plain": [
       "      금액        유통기한  재고\n",
       "포도  1000  2020-11-25   5\n",
       "귤   2000  2020-11-24   3"
      ]
     },
     "execution_count": 51,
     "metadata": {},
     "output_type": "execute_result"
    }
   ],
   "source": [
    "pos_Data = dataFrame_Data.iloc[0:2]  \n",
    "pos_Data"
   ]
  },
  {
   "cell_type": "code",
   "execution_count": 54,
   "metadata": {},
   "outputs": [
    {
     "name": "stdout",
     "output_type": "stream",
     "text": [
      "<class 'pandas.core.series.Series'>\n"
     ]
    },
    {
     "data": {
      "text/plain": [
       "포도     1000\n",
       "귤      2000\n",
       "오렌지    3000\n",
       "사과     1000\n",
       "배      5000\n",
       "딸기     7000\n",
       "Name: 금액, dtype: int64"
      ]
     },
     "execution_count": 54,
     "metadata": {},
     "output_type": "execute_result"
    }
   ],
   "source": [
    "#열 선택, 단일\n",
    "single_colmn_Data = dataFrame_Data['금액']  \n",
    "print(type(single_colmn_Data))\n",
    "single_colmn_Data"
   ]
  },
  {
   "cell_type": "code",
   "execution_count": 55,
   "metadata": {},
   "outputs": [
    {
     "name": "stdout",
     "output_type": "stream",
     "text": [
      "<class 'pandas.core.frame.DataFrame'>\n"
     ]
    },
    {
     "data": {
      "text/html": [
       "<div>\n",
       "<style scoped>\n",
       "    .dataframe tbody tr th:only-of-type {\n",
       "        vertical-align: middle;\n",
       "    }\n",
       "\n",
       "    .dataframe tbody tr th {\n",
       "        vertical-align: top;\n",
       "    }\n",
       "\n",
       "    .dataframe thead th {\n",
       "        text-align: right;\n",
       "    }\n",
       "</style>\n",
       "<table border=\"1\" class=\"dataframe\">\n",
       "  <thead>\n",
       "    <tr style=\"text-align: right;\">\n",
       "      <th></th>\n",
       "      <th>금액</th>\n",
       "      <th>재고</th>\n",
       "    </tr>\n",
       "  </thead>\n",
       "  <tbody>\n",
       "    <tr>\n",
       "      <th>포도</th>\n",
       "      <td>1000</td>\n",
       "      <td>5</td>\n",
       "    </tr>\n",
       "    <tr>\n",
       "      <th>귤</th>\n",
       "      <td>2000</td>\n",
       "      <td>3</td>\n",
       "    </tr>\n",
       "    <tr>\n",
       "      <th>오렌지</th>\n",
       "      <td>3000</td>\n",
       "      <td>7</td>\n",
       "    </tr>\n",
       "    <tr>\n",
       "      <th>사과</th>\n",
       "      <td>1000</td>\n",
       "      <td>5</td>\n",
       "    </tr>\n",
       "    <tr>\n",
       "      <th>배</th>\n",
       "      <td>5000</td>\n",
       "      <td>3</td>\n",
       "    </tr>\n",
       "    <tr>\n",
       "      <th>딸기</th>\n",
       "      <td>7000</td>\n",
       "      <td>2</td>\n",
       "    </tr>\n",
       "  </tbody>\n",
       "</table>\n",
       "</div>"
      ],
      "text/plain": [
       "       금액  재고\n",
       "포도   1000   5\n",
       "귤    2000   3\n",
       "오렌지  3000   7\n",
       "사과   1000   5\n",
       "배    5000   3\n",
       "딸기   7000   2"
      ]
     },
     "execution_count": 55,
     "metadata": {},
     "output_type": "execute_result"
    }
   ],
   "source": [
    "#열 선택, 멀티\n",
    "multi_colmn_Data = dataFrame_Data[['금액','재고']]  \n",
    "print(type(multi_colmn_Data))\n",
    "multi_colmn_Data"
   ]
  },
  {
   "cell_type": "code",
   "execution_count": 63,
   "metadata": {},
   "outputs": [
    {
     "data": {
      "text/html": [
       "<div>\n",
       "<style scoped>\n",
       "    .dataframe tbody tr th:only-of-type {\n",
       "        vertical-align: middle;\n",
       "    }\n",
       "\n",
       "    .dataframe tbody tr th {\n",
       "        vertical-align: top;\n",
       "    }\n",
       "\n",
       "    .dataframe thead th {\n",
       "        text-align: right;\n",
       "    }\n",
       "</style>\n",
       "<table border=\"1\" class=\"dataframe\">\n",
       "  <thead>\n",
       "    <tr style=\"text-align: right;\">\n",
       "      <th></th>\n",
       "      <th>금액</th>\n",
       "      <th>유통기한</th>\n",
       "      <th>재고</th>\n",
       "    </tr>\n",
       "  </thead>\n",
       "  <tbody>\n",
       "    <tr>\n",
       "      <th>포도</th>\n",
       "      <td>1000</td>\n",
       "      <td>2020-11-25</td>\n",
       "      <td>5</td>\n",
       "    </tr>\n",
       "    <tr>\n",
       "      <th>귤</th>\n",
       "      <td>2000</td>\n",
       "      <td>2020-11-24</td>\n",
       "      <td>3</td>\n",
       "    </tr>\n",
       "    <tr>\n",
       "      <th>오렌지</th>\n",
       "      <td>3000</td>\n",
       "      <td>2020-11-20</td>\n",
       "      <td>7</td>\n",
       "    </tr>\n",
       "    <tr>\n",
       "      <th>사과</th>\n",
       "      <td>1000</td>\n",
       "      <td>2020-11-25</td>\n",
       "      <td>5</td>\n",
       "    </tr>\n",
       "    <tr>\n",
       "      <th>배</th>\n",
       "      <td>5000</td>\n",
       "      <td>2020-12-15</td>\n",
       "      <td>3</td>\n",
       "    </tr>\n",
       "    <tr>\n",
       "      <th>딸기</th>\n",
       "      <td>7000</td>\n",
       "      <td>2021-02-17</td>\n",
       "      <td>2</td>\n",
       "    </tr>\n",
       "  </tbody>\n",
       "</table>\n",
       "</div>"
      ],
      "text/plain": [
       "       금액        유통기한  재고\n",
       "포도   1000  2020-11-25   5\n",
       "귤    2000  2020-11-24   3\n",
       "오렌지  3000  2020-11-20   7\n",
       "사과   1000  2020-11-25   5\n",
       "배    5000  2020-12-15   3\n",
       "딸기   7000  2021-02-17   2"
      ]
     },
     "execution_count": 63,
     "metadata": {},
     "output_type": "execute_result"
    }
   ],
   "source": [
    "dataFrame_Data"
   ]
  },
  {
   "cell_type": "code",
   "execution_count": 61,
   "metadata": {},
   "outputs": [
    {
     "data": {
      "text/plain": [
       "1000"
      ]
     },
     "execution_count": 61,
     "metadata": {},
     "output_type": "execute_result"
    }
   ],
   "source": [
    "# 인덱스 이름을 사용하여 요소 선택  \n",
    "name_Data = dataFrame_Data.loc['사과','금액']\n",
    "name_Data"
   ]
  },
  {
   "cell_type": "code",
   "execution_count": 66,
   "metadata": {},
   "outputs": [
    {
     "data": {
      "text/plain": [
       "'2020-11-25'"
      ]
     },
     "execution_count": 66,
     "metadata": {},
     "output_type": "execute_result"
    }
   ],
   "source": [
    "# 정수 위치 인덱스를 사용하여 요소 선택  \n",
    "name_Data = dataFrame_Data.iloc[0,1]  \n",
    "name_Data"
   ]
  },
  {
   "cell_type": "code",
   "execution_count": 68,
   "metadata": {},
   "outputs": [
    {
     "data": {
      "text/html": [
       "<div>\n",
       "<style scoped>\n",
       "    .dataframe tbody tr th:only-of-type {\n",
       "        vertical-align: middle;\n",
       "    }\n",
       "\n",
       "    .dataframe tbody tr th {\n",
       "        vertical-align: top;\n",
       "    }\n",
       "\n",
       "    .dataframe thead th {\n",
       "        text-align: right;\n",
       "    }\n",
       "</style>\n",
       "<table border=\"1\" class=\"dataframe\">\n",
       "  <thead>\n",
       "    <tr style=\"text-align: right;\">\n",
       "      <th></th>\n",
       "      <th>금액</th>\n",
       "      <th>재고</th>\n",
       "    </tr>\n",
       "  </thead>\n",
       "  <tbody>\n",
       "    <tr>\n",
       "      <th>사과</th>\n",
       "      <td>1000</td>\n",
       "      <td>5</td>\n",
       "    </tr>\n",
       "    <tr>\n",
       "      <th>딸기</th>\n",
       "      <td>7000</td>\n",
       "      <td>2</td>\n",
       "    </tr>\n",
       "  </tbody>\n",
       "</table>\n",
       "</div>"
      ],
      "text/plain": [
       "      금액  재고\n",
       "사과  1000   5\n",
       "딸기  7000   2"
      ]
     },
     "execution_count": 68,
     "metadata": {},
     "output_type": "execute_result"
    }
   ],
   "source": [
    "# 인덱스 이름을 사용하여 특정 원소 행/열 2개 이상 선택  \n",
    "name_Data = dataFrame_Data.loc[['사과','딸기'],['금액','재고']] \n",
    "name_Data"
   ]
  },
  {
   "cell_type": "code",
   "execution_count": 69,
   "metadata": {},
   "outputs": [
    {
     "data": {
      "text/plain": [
       "금액    1000\n",
       "재고       5\n",
       "Name: 포도, dtype: object"
      ]
     },
     "execution_count": 69,
     "metadata": {},
     "output_type": "execute_result"
    }
   ],
   "source": [
    "# 정수 위치 인덱스를 사용하여 특정 원소 2개 이상 선택  \n",
    "name_Data = dataFrame_Data.iloc[0,[0,2]]  \n",
    "name_Data"
   ]
  },
  {
   "cell_type": "code",
   "execution_count": 71,
   "metadata": {},
   "outputs": [
    {
     "data": {
      "text/html": [
       "<div>\n",
       "<style scoped>\n",
       "    .dataframe tbody tr th:only-of-type {\n",
       "        vertical-align: middle;\n",
       "    }\n",
       "\n",
       "    .dataframe tbody tr th {\n",
       "        vertical-align: top;\n",
       "    }\n",
       "\n",
       "    .dataframe thead th {\n",
       "        text-align: right;\n",
       "    }\n",
       "</style>\n",
       "<table border=\"1\" class=\"dataframe\">\n",
       "  <thead>\n",
       "    <tr style=\"text-align: right;\">\n",
       "      <th></th>\n",
       "      <th>금액</th>\n",
       "      <th>유통기한</th>\n",
       "      <th>재고</th>\n",
       "    </tr>\n",
       "  </thead>\n",
       "  <tbody>\n",
       "    <tr>\n",
       "      <th>포도</th>\n",
       "      <td>1000</td>\n",
       "      <td>2020-11-25</td>\n",
       "      <td>5</td>\n",
       "    </tr>\n",
       "    <tr>\n",
       "      <th>귤</th>\n",
       "      <td>8000</td>\n",
       "      <td>2020-11-24</td>\n",
       "      <td>3</td>\n",
       "    </tr>\n",
       "    <tr>\n",
       "      <th>오렌지</th>\n",
       "      <td>3000</td>\n",
       "      <td>2020-11-20</td>\n",
       "      <td>7</td>\n",
       "    </tr>\n",
       "    <tr>\n",
       "      <th>사과</th>\n",
       "      <td>5500</td>\n",
       "      <td>2020-11-25</td>\n",
       "      <td>5</td>\n",
       "    </tr>\n",
       "    <tr>\n",
       "      <th>배</th>\n",
       "      <td>5000</td>\n",
       "      <td>2020-12-15</td>\n",
       "      <td>3</td>\n",
       "    </tr>\n",
       "    <tr>\n",
       "      <th>딸기</th>\n",
       "      <td>7000</td>\n",
       "      <td>2021-02-17</td>\n",
       "      <td>2</td>\n",
       "    </tr>\n",
       "  </tbody>\n",
       "</table>\n",
       "</div>"
      ],
      "text/plain": [
       "       금액        유통기한  재고\n",
       "포도   1000  2020-11-25   5\n",
       "귤    8000  2020-11-24   3\n",
       "오렌지  3000  2020-11-20   7\n",
       "사과   5500  2020-11-25   5\n",
       "배    5000  2020-12-15   3\n",
       "딸기   7000  2021-02-17   2"
      ]
     },
     "execution_count": 71,
     "metadata": {},
     "output_type": "execute_result"
    }
   ],
   "source": [
    "#요소 값 변경\n",
    "dataFrame_Data.loc['사과','금액'] = 5500 # 1000 -> 5500 변경  \n",
    "dataFrame_Data.iloc[1,0] = 8000 # 2000 -> 8500 변경  \n",
    "dataFrame_Data"
   ]
  },
  {
   "cell_type": "code",
   "execution_count": 72,
   "metadata": {},
   "outputs": [
    {
     "data": {
      "text/html": [
       "<div>\n",
       "<style scoped>\n",
       "    .dataframe tbody tr th:only-of-type {\n",
       "        vertical-align: middle;\n",
       "    }\n",
       "\n",
       "    .dataframe tbody tr th {\n",
       "        vertical-align: top;\n",
       "    }\n",
       "\n",
       "    .dataframe thead th {\n",
       "        text-align: right;\n",
       "    }\n",
       "</style>\n",
       "<table border=\"1\" class=\"dataframe\">\n",
       "  <thead>\n",
       "    <tr style=\"text-align: right;\">\n",
       "      <th></th>\n",
       "      <th>포도</th>\n",
       "      <th>귤</th>\n",
       "      <th>오렌지</th>\n",
       "      <th>사과</th>\n",
       "      <th>배</th>\n",
       "      <th>딸기</th>\n",
       "    </tr>\n",
       "  </thead>\n",
       "  <tbody>\n",
       "    <tr>\n",
       "      <th>금액</th>\n",
       "      <td>1000</td>\n",
       "      <td>8000</td>\n",
       "      <td>3000</td>\n",
       "      <td>5500</td>\n",
       "      <td>5000</td>\n",
       "      <td>7000</td>\n",
       "    </tr>\n",
       "    <tr>\n",
       "      <th>유통기한</th>\n",
       "      <td>2020-11-25</td>\n",
       "      <td>2020-11-24</td>\n",
       "      <td>2020-11-20</td>\n",
       "      <td>2020-11-25</td>\n",
       "      <td>2020-12-15</td>\n",
       "      <td>2021-02-17</td>\n",
       "    </tr>\n",
       "    <tr>\n",
       "      <th>재고</th>\n",
       "      <td>5</td>\n",
       "      <td>3</td>\n",
       "      <td>7</td>\n",
       "      <td>5</td>\n",
       "      <td>3</td>\n",
       "      <td>2</td>\n",
       "    </tr>\n",
       "  </tbody>\n",
       "</table>\n",
       "</div>"
      ],
      "text/plain": [
       "              포도           귤         오렌지          사과           배          딸기\n",
       "금액          1000        8000        3000        5500        5000        7000\n",
       "유통기한  2020-11-25  2020-11-24  2020-11-20  2020-11-25  2020-12-15  2021-02-17\n",
       "재고             5           3           7           5           3           2"
      ]
     },
     "execution_count": 72,
     "metadata": {},
     "output_type": "execute_result"
    }
   ],
   "source": [
    "# 행/열 위치 바꾸기  \n",
    "dataFrame_Data = dataFrame_Data.transpose()  \n",
    "dataFrame_Data"
   ]
  },
  {
   "cell_type": "code",
   "execution_count": 73,
   "metadata": {},
   "outputs": [
    {
     "data": {
      "text/html": [
       "<div>\n",
       "<style scoped>\n",
       "    .dataframe tbody tr th:only-of-type {\n",
       "        vertical-align: middle;\n",
       "    }\n",
       "\n",
       "    .dataframe tbody tr th {\n",
       "        vertical-align: top;\n",
       "    }\n",
       "\n",
       "    .dataframe thead th {\n",
       "        text-align: right;\n",
       "    }\n",
       "</style>\n",
       "<table border=\"1\" class=\"dataframe\">\n",
       "  <thead>\n",
       "    <tr style=\"text-align: right;\">\n",
       "      <th></th>\n",
       "      <th>금액</th>\n",
       "      <th>유통기한</th>\n",
       "      <th>재고</th>\n",
       "    </tr>\n",
       "  </thead>\n",
       "  <tbody>\n",
       "    <tr>\n",
       "      <th>포도</th>\n",
       "      <td>1000</td>\n",
       "      <td>2020-11-25</td>\n",
       "      <td>5</td>\n",
       "    </tr>\n",
       "    <tr>\n",
       "      <th>귤</th>\n",
       "      <td>8000</td>\n",
       "      <td>2020-11-24</td>\n",
       "      <td>3</td>\n",
       "    </tr>\n",
       "    <tr>\n",
       "      <th>오렌지</th>\n",
       "      <td>3000</td>\n",
       "      <td>2020-11-20</td>\n",
       "      <td>7</td>\n",
       "    </tr>\n",
       "    <tr>\n",
       "      <th>사과</th>\n",
       "      <td>5500</td>\n",
       "      <td>2020-11-25</td>\n",
       "      <td>5</td>\n",
       "    </tr>\n",
       "    <tr>\n",
       "      <th>배</th>\n",
       "      <td>5000</td>\n",
       "      <td>2020-12-15</td>\n",
       "      <td>3</td>\n",
       "    </tr>\n",
       "    <tr>\n",
       "      <th>딸기</th>\n",
       "      <td>7000</td>\n",
       "      <td>2021-02-17</td>\n",
       "      <td>2</td>\n",
       "    </tr>\n",
       "  </tbody>\n",
       "</table>\n",
       "</div>"
      ],
      "text/plain": [
       "       금액        유통기한 재고\n",
       "포도   1000  2020-11-25  5\n",
       "귤    8000  2020-11-24  3\n",
       "오렌지  3000  2020-11-20  7\n",
       "사과   5500  2020-11-25  5\n",
       "배    5000  2020-12-15  3\n",
       "딸기   7000  2021-02-17  2"
      ]
     },
     "execution_count": 73,
     "metadata": {},
     "output_type": "execute_result"
    }
   ],
   "source": [
    "dataFrame_Data = dataFrame_Data.T  \n",
    "dataFrame_Data"
   ]
  },
  {
   "cell_type": "code",
   "execution_count": null,
   "metadata": {},
   "outputs": [],
   "source": []
  }
 ],
 "metadata": {
  "kernelspec": {
   "display_name": "Python 3",
   "language": "python",
   "name": "python3"
  },
  "language_info": {
   "codemirror_mode": {
    "name": "ipython",
    "version": 3
   },
   "file_extension": ".py",
   "mimetype": "text/x-python",
   "name": "python",
   "nbconvert_exporter": "python",
   "pygments_lexer": "ipython3",
   "version": "3.8.5"
  }
 },
 "nbformat": 4,
 "nbformat_minor": 4
}
