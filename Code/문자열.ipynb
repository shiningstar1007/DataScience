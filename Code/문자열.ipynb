{
 "cells": [
  {
   "cell_type": "code",
   "execution_count": 12,
   "metadata": {},
   "outputs": [
    {
     "name": "stdout",
     "output_type": "stream",
     "text": [
      "문자열 붙이기 :  문자열테스트\n",
      "문자열 반복 :  문자열문자열\n",
      "testString1 문자열 길이 : 3\n"
     ]
    }
   ],
   "source": [
    "testString1 = \"문자열\"\n",
    "testString2 = '테스트'\n",
    "\n",
    "print(\"문자열 붙이기 : \", testString1 + testString2)\n",
    "print(\"문자열 반복 : \", testString1 * 2)\n",
    "print(\"testString1 문자열 길이 :\", len(testString1))"
   ]
  },
  {
   "cell_type": "code",
   "execution_count": 14,
   "metadata": {},
   "outputs": [
    {
     "name": "stdout",
     "output_type": "stream",
     "text": [
      "전부 대문자 :  PYTHON TEST\n",
      "전부 소문자 :  python test\n",
      "대문자는 소문자, 소문자는 대문자 :  PYTHON test\n",
      "첫 문자만 대문자, 나머진 소문자 :  Python Test\n"
     ]
    }
   ],
   "source": [
    "enString1 = \"python TEST\"\n",
    "\n",
    "print(\"전부 대문자 : \", enString1.upper())\n",
    "print(\"전부 소문자 : \", enString1.lower())\n",
    "print(\"대문자는 소문자, 소문자는 대문자 : \", enString1.swapcase())\n",
    "print(\"첫 문자만 대문자, 나머진 소문자 : \", enString1.title())"
   ]
  },
  {
   "cell_type": "code",
   "execution_count": 22,
   "metadata": {},
   "outputs": [
    {
     "name": "stdout",
     "output_type": "stream",
     "text": [
      "Test 문자 찾은 개수 :  2\n",
      "Test 문자 시작 위치 :  7\n",
      "Test 문자 시작 위치 :  7\n",
      "Test 문자 검색, 오른쪽 :  19\n",
      "Test 문자 검색, 오른쪽 :  19\n",
      "Test 문자 검색, 첫번째 문자열과 일치 하면 True 아님 False :  False\n",
      "Test 문자 검색, 마지막 문자열과 일치 하면 True 아님 False :  True\n"
     ]
    }
   ],
   "source": [
    "findString1 = \"python Test 문자열 검색 Test\"\n",
    "\n",
    "print(\"Test 문자 찾은 개수 : \", findString1.count(\"Test\"))\n",
    "print(\"Test 문자 시작 위치 : \", findString1.find(\"Test\"))\n",
    "print(\"Test 문자 시작 위치 : \", findString1.index(\"Test\"))\n",
    "print(\"Test 문자 검색, 오른쪽 : \", findString1.rfind(\"Test\"))\n",
    "print(\"Test 문자 검색, 오른쪽 : \", findString1.rindex(\"Test\"))\n",
    "print(\"Test 문자 검색, 첫번째 문자열과 일치 하면 True 아님 False : \", findString1.startswith(\"Test\"))\n",
    "print(\"Test 문자 검색, 마지막 문자열과 일치 하면 True 아님 False : \", findString1.endswith(\"Test\"))"
   ]
  },
  {
   "cell_type": "code",
   "execution_count": 29,
   "metadata": {},
   "outputs": [
    {
     "name": "stdout",
     "output_type": "stream",
     "text": [
      "문자열 맨 앞과 맨 끝 공백 또는 특정 문자 제거 : [  python Test 문자열 공백 Test  ]\n",
      "문자열 맨 앞 공백 또는 특정 문자 제거 : [  python Test 문자열 공백 Test *** ]\n",
      "문자열 맨 끝 공백 또는 특정 문자 제거 : [ *** python Test 문자열 공백 Test  ]\n",
      "문자 '*' 을 '-'로 변경 : [ --- python Test 문자열 공백 Test --- ]\n"
     ]
    }
   ],
   "source": [
    "blankString1 = \"*** python Test 문자열 공백 Test ***\"\n",
    "\n",
    "print(\"문자열 맨 앞과 맨 끝 공백 또는 특정 문자 제거 : [\", blankString1.strip('*'), \"]\")\n",
    "print(\"문자열 맨 앞 공백 또는 특정 문자 제거 : [\", blankString1.lstrip('*'), \"]\")\n",
    "print(\"문자열 맨 끝 공백 또는 특정 문자 제거 : [\", blankString1.rstrip('*'), \"]\")\n",
    "print(\"문자 '*' 을 '-'로 변경 : [\", blankString1.replace('*', '-'), \"]\")"
   ]
  },
  {
   "cell_type": "code",
   "execution_count": 46,
   "metadata": {},
   "outputs": [
    {
     "name": "stdout",
     "output_type": "stream",
     "text": [
      "문자열을 공백 기준으로 자르기 :  ['python', 'Test', '문자열', '분리,', '결합,', '대입', 'Test']\n",
      "문자열을 ',' 기준으로 자르기 :  ['python Test 문자열 분리', ' 결합', ' 대입 Test']\n",
      "문자열을 NewLine 기준으로 자르기 :  ['python Test 문자열 분리, 결합, 대입 Test']\n",
      "특정 문자열을 포함해서 문자열 만들기 :  p!y!t!h!o!n\n",
      "문자로 저장된 숫자를 정수형으로 변환 :  <class 'int'> [2020, 11, 11]\n"
     ]
    }
   ],
   "source": [
    "charString1 = \"python Test 문자열 분리, 결합, 대입 Test\"\n",
    "\n",
    "print(\"문자열을 공백 기준으로 자르기 : \", charString1.split())\n",
    "print(\"문자열을 ',' 기준으로 자르기 : \", charString1.split(','))\n",
    "\n",
    "lineString1 = \"python Test\\n 문자열 분리\\n 결합\\n 대입 Test\"\n",
    "print(\"문자열을 NewLine 기준으로 자르기 : \", charString1.splitlines())\n",
    "\n",
    "joinString1 = \"!\"\n",
    "print(\"특정 문자열을 포함해서 문자열 만들기 : \", joinString1.join('python'))\n",
    "\n",
    "intString1 = [\"2020\",\"11\",\"11\"]\n",
    "intList = list(map(int, intString1))\n",
    "print(\"문자로 저장된 숫자를 정수형으로 변환 : \", type(intList[0]), intList)"
   ]
  },
  {
   "cell_type": "code",
   "execution_count": 57,
   "metadata": {},
   "outputs": [
    {
     "name": "stdout",
     "output_type": "stream",
     "text": [
      "40자 기준 가운데 정렬 : [       python Test 문자열 정렬, 채우기 Test       ]\n",
      "40자 기준 왼쪽 정렬 : [ python Test 문자열 정렬, 채우기 Test             ]\n",
      "40자 기준 오른쪽 정렬 : [             python Test 문자열 정렬, 채우기 Test ]\n",
      "40자 기준 가운데 정렬, 빈칸은 특정 문자로 채우기 : [ ******python Test 문자열 정렬, 채우기 Test****** ]\n",
      "40자 기준 오른쪽 정렬, 빈칸은 0 문자로 채우기 : [ 000000000000python Test 문자열 정렬, 채우기 Test ]\n"
     ]
    }
   ],
   "source": [
    "sortString1 = \"python Test 문자열 정렬, 채우기 Test\"\n",
    "\n",
    "print(\"40자 기준 가운데 정렬 : [\",sortString1.center(40), \"]\")\n",
    "print(\"40자 기준 왼쪽 정렬 : [\",sortString1.ljust(40), \"]\")\n",
    "print(\"40자 기준 오른쪽 정렬 : [\",sortString1.rjust(40), \"]\")\n",
    "print(\"40자 기준 가운데 정렬, 빈칸은 특정 문자로 채우기 : [\",sortString1.center(40, '*'), \"]\")\n",
    "print(\"40자 기준 오른쪽 정렬, 빈칸은 0 문자로 채우기 : [\",sortString1.zfill(40), \"]\")"
   ]
  },
  {
   "cell_type": "code",
   "execution_count": 67,
   "metadata": {},
   "outputs": [
    {
     "name": "stdout",
     "output_type": "stream",
     "text": [
      "문자열이 전부 숫자로 구성되어 있으면 True, 아님 False :  False\n",
      "문자열이 전부 문자로 구성되어 있으면 True, 아님 False :  False\n",
      "문자열이 전부 문자와 숫자로 구성되어 있으면 True, 아님 False :  True\n",
      "문자열이 전부 소문자로 구성되어 있으면 True, 아님 False :  True\n",
      "문자열이 전부 대문자로 구성되어 있으면 True, 아님 False :  False\n",
      "문자열이 공백이나 개행, 탭이면 True, 아님 False :  False\n"
     ]
    }
   ],
   "source": [
    "isString1 = \"python문자열test123\"\n",
    "\n",
    "print(\"문자열이 전부 숫자로 구성되어 있으면 True, 아님 False : \", isString1.isdigit())\n",
    "print(\"문자열이 전부 문자로 구성되어 있으면 True, 아님 False : \", isString1.isalpha())\n",
    "print(\"문자열이 전부 문자와 숫자로 구성되어 있으면 True, 아님 False : \", isString1.isalnum())\n",
    "print(\"문자열이 전부 소문자로 구성되어 있으면 True, 아님 False : \", isString1.islower())\n",
    "print(\"문자열이 전부 대문자로 구성되어 있으면 True, 아님 False : \", isString1.isupper())\n",
    "print(\"문자열이 공백이나 개행, 탭이면 True, 아님 False : \", isString1.isspace())"
   ]
  }
 ],
 "metadata": {
  "kernelspec": {
   "display_name": "Python 3",
   "language": "python",
   "name": "python3"
  },
  "language_info": {
   "codemirror_mode": {
    "name": "ipython",
    "version": 3
   },
   "file_extension": ".py",
   "mimetype": "text/x-python",
   "name": "python",
   "nbconvert_exporter": "python",
   "pygments_lexer": "ipython3",
   "version": "3.8.5"
  }
 },
 "nbformat": 4,
 "nbformat_minor": 4
}
