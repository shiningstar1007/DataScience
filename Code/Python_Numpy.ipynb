{
 "cells": [
  {
   "cell_type": "code",
   "execution_count": 122,
   "metadata": {},
   "outputs": [
    {
     "name": "stdout",
     "output_type": "stream",
     "text": [
      "<class 'numpy.ndarray'>\n",
      "[ 1  3  5  7  9 10 11 12]\n",
      "슬라이싱 데이터 추출 [0:3]: [1 3 5]\n",
      "배열 차원 : 1\n",
      "배열 크기 : (8,)\n",
      "배열 원소 크기 : 4\n",
      "배열 원소 개수 : 8\n",
      "배열 내 데이터 타입 : int32\n",
      "데이터 타입 변경 int32 -> float32\n",
      "배열 내 데이터 타입 : float32\n",
      "팬시 인덱싱 [[2,4,6]] : [ 5.  9. 11.]\n",
      "불린 인덱싱 [원소를 2로 나눈 나머지가 0] : [False False False False False  True False  True]\n"
     ]
    }
   ],
   "source": [
    "import numpy as np  \n",
    "#1차원\n",
    "array1 = np.array([1,3,5,7,9,10,11,12])  \n",
    "print(type(array1), array1, sep='\\n')\n",
    "print(\"슬라이싱 데이터 추출 [0:3]:\", array1[0:3])\n",
    "print(\"배열 차원 :\", array1.ndim)\n",
    "print(\"배열 크기 :\", array1.shape)\n",
    "print(\"배열 원소 크기 :\", array1.itemsize)\n",
    "print(\"배열 원소 개수 :\", array1.size)\n",
    "print(\"배열 내 데이터 타입 :\", array1.dtype)\n",
    "print(\"데이터 타입 변경 int32 -> float32\")\n",
    "array1 = array1.astype('float32')\n",
    "print(\"배열 내 데이터 타입 :\", array1.dtype)\n",
    "print(\"팬시 인덱싱 [[2,4,6]] :\", array1[[2,4,6]])  \n",
    "print(\"불린 인덱싱 [원소를 2로 나눈 나머지가 0] :\", array1 % 2 == 0) "
   ]
  },
  {
   "cell_type": "code",
   "execution_count": 118,
   "metadata": {
    "scrolled": true
   },
   "outputs": [
    {
     "name": "stdout",
     "output_type": "stream",
     "text": [
      "배열 차원 : 2\n",
      "배열 크기 : (2, 4)\n",
      "배열 원소 크기 : 4\n",
      "배열 원소 개수 : 8\n",
      "배열 내 데이터 타입 : int32\n",
      "데이터 타입 변경 int32 -> float32\n",
      "배열 내 데이터 타입 : int32\n",
      "<class 'numpy.ndarray'>\n",
      "[[1 3 5 7]\n",
      " [2 4 6 8]]\n",
      "axis0 : [ 3  7 11 15]\n",
      "axis1 : [16 20]\n",
      "array2 전체 합 : 36\n",
      "슬라이싱 데이터 추출 [0:2, 0:2]:\n",
      " [[1 3]\n",
      " [2 4]]\n",
      "슬라이싱 데이터 추출 [0:2, :]:\n",
      " [[1 3 5 7]\n",
      " [2 4 6 8]]\n",
      "슬라이싱 데이터 추출 [:, 0:1]:\n",
      " [[1]\n",
      " [2]]\n",
      "슬라이싱 데이터 추출 [:, :]:\n",
      " [[1 3 5 7]\n",
      " [2 4 6 8]]\n",
      "슬라이싱 데이터 추출 [:2, 1:]:\n",
      " [[3 5 7]\n",
      " [4 6 8]]\n",
      "팬시 인덱싱[[0,1],[1,2]]:\n",
      " [3 6]\n",
      "팬시 인덱싱[[0,1],1:2]:\n",
      " [[3]\n",
      " [4]]\n",
      "팬시 인덱싱[[0,1],3]:\n",
      " [7 8]\n",
      "팬시 인덱싱[[0,1]]:\n",
      " [[1 3 5 7]\n",
      " [2 4 6 8]]\n"
     ]
    }
   ],
   "source": [
    "#2차원\n",
    "array2 = np.array([[1,3,5,7], [2,4,6,8]])  \n",
    "print(\"배열 차원 :\", array2.ndim)\n",
    "print(\"배열 크기 :\", array2.shape)\n",
    "print(\"배열 원소 크기 :\", array2.itemsize)\n",
    "print(\"배열 원소 개수 :\", array2.size)\n",
    "print(\"배열 내 데이터 타입 :\", array2.dtype)\n",
    "print(\"데이터 타입 변경 int32 -> float32\")\n",
    "array1 = array2.astype('float32')\n",
    "print(\"배열 내 데이터 타입 :\", array2.dtype)\n",
    "\n",
    "print(type(array2), array2, sep='\\n')\n",
    "print(\"axis0 :\", array2.sum(axis=0)) #axis 0 기준으로 더하기  \n",
    "print(\"axis1 :\", array2.sum(axis=1)) #axis 1 기준으로 더하기  \n",
    "print(\"array2 전체 합 : %d\" % array2.sum())     #2차원 배열 전체 합\n",
    "\n",
    "print(\"슬라이싱 데이터 추출 [0:2, 0:2]:\\n\", array2[0:2, 0:2])  \n",
    "print(\"슬라이싱 데이터 추출 [0:2, :]:\\n\", array2[0:2, :])  \n",
    "print(\"슬라이싱 데이터 추출 [:, 0:1]:\\n\", array2[:, 0:1])  \n",
    "print(\"슬라이싱 데이터 추출 [:, :]:\\n\", array2[:, :])  \n",
    "print(\"슬라이싱 데이터 추출 [:2, 1:]:\\n\", array2[:2, 1:])  \n",
    "\n",
    "print(\"팬시 인덱싱[[0,1],[1,2]]:\\n\", array2[[0,1],[1,2]])  \n",
    "print(\"팬시 인덱싱[[0,1],1:2]:\\n\", array2[[0,1],1:2])  \n",
    "print(\"팬시 인덱싱[[0,1],3]:\\n\", array2[[0,1],3])  \n",
    "print(\"팬시 인덱싱[[0,1]]:\\n\", array2[[0,1]])  "
   ]
  },
  {
   "cell_type": "code",
   "execution_count": 115,
   "metadata": {},
   "outputs": [
    {
     "name": "stdout",
     "output_type": "stream",
     "text": [
      "배열 차원 : 3\n",
      "배열 크기 : (2, 2, 4)\n",
      "배열 원소 크기 : 4\n",
      "배열 원소 개수 : 16\n",
      "배열 내 데이터 타입 : int32\n",
      "데이터 타입 변경 int32 -> float32\n",
      "배열 내 데이터 타입 : int32\n",
      "<class 'numpy.ndarray'>\n",
      "[[[ 1  3  5  7]\n",
      "  [ 2  4  6  8]]\n",
      "\n",
      " [[11 13 15 17]\n",
      "  [12 14 16 18]]]\n",
      "axis0 :\n",
      "[[12 16 20 24]\n",
      " [14 18 22 26]]\n",
      "axis1 :\n",
      "[[ 3  7 11 15]\n",
      " [23 27 31 35]]\n",
      "axis2 :\n",
      "[[16 20]\n",
      " [56 60]]\n",
      "array3 전체 합 : 152\n",
      "슬라이싱 데이터 추출 [0:2, 0:2, 0:2]:\n",
      " [[[ 1  3]\n",
      "  [ 2  4]]\n",
      "\n",
      " [[11 13]\n",
      "  [12 14]]]\n",
      "슬라이싱 데이터 추출 [0:2, : , 0:2]:\n",
      " [[[ 1  3]\n",
      "  [ 2  4]]\n",
      "\n",
      " [[11 13]\n",
      "  [12 14]]]\n",
      "슬라이싱 데이터 추출 [:, 0:1, :]:\n",
      " [[[ 1  3  5  7]]\n",
      "\n",
      " [[11 13 15 17]]]\n",
      "슬라이싱 데이터 추출 [:, :, :]:\n",
      " [[[ 1  3  5  7]\n",
      "  [ 2  4  6  8]]\n",
      "\n",
      " [[11 13 15 17]\n",
      "  [12 14 16 18]]]\n",
      "슬라이싱 데이터 추출 [:2, 1:, :]:\n",
      " [[[ 2  4  6  8]]\n",
      "\n",
      " [[12 14 16 18]]]\n"
     ]
    }
   ],
   "source": [
    "#3차원\n",
    "array3 = np.array([[[1,3,5,7], [2,4,6,8]], [[11,13,15,17], [12,14,16,18]]]) \n",
    "print(\"배열 차원 :\", array3.ndim)\n",
    "print(\"배열 크기 :\", array3.shape)\n",
    "print(\"배열 원소 크기 :\", array3.itemsize)\n",
    "print(\"배열 원소 개수 :\", array3.size)\n",
    "print(\"배열 내 데이터 타입 :\", array3.dtype)\n",
    "print(\"데이터 타입 변경 int32 -> float32\")\n",
    "array1 = array3.astype('float32')\n",
    "print(\"배열 내 데이터 타입 :\", array3.dtype)\n",
    "\n",
    "print(type(array3), array3, sep='\\n')\n",
    "print(\"axis0 :\", array3.sum(axis=0), sep='\\n') #axis 0 기준으로 더하기  \n",
    "print(\"axis1 :\", array3.sum(axis=1), sep='\\n') #axis 1 기준으로 더하기  \n",
    "print(\"axis2 :\", array3.sum(axis=2), sep='\\n') #axis 2 기준으로 더하기  \n",
    "print(\"array3 전체 합 : %d\" % array3.sum())     #3차원 배열 전체 합\n",
    "\n",
    "print(\"슬라이싱 데이터 추출 [0:2, 0:2, 0:2]:\\n\", array3[0:2, 0:2, 0:2])  \n",
    "print(\"슬라이싱 데이터 추출 [0:2, : , 0:2]:\\n\", array3[0:2, : , 0:2])  \n",
    "print(\"슬라이싱 데이터 추출 [:, 0:1, :]:\\n\", array3[:, 0:1, :])  \n",
    "print(\"슬라이싱 데이터 추출 [:, :, :]:\\n\", array3[:, :, :])  \n",
    "print(\"슬라이싱 데이터 추출 [:2, 1:, :]:\\n\", array3[:2, 1:, :])  "
   ]
  },
  {
   "cell_type": "code",
   "execution_count": 58,
   "metadata": {},
   "outputs": [
    {
     "name": "stdout",
     "output_type": "stream",
     "text": [
      "array1 배열 차원 : 1\n",
      "array2 배열 차원 : 2\n",
      "<class 'numpy.ndarray'>\n",
      "[[ 1  2  3  4  5  6]\n",
      " [ 7  8  9 10 11 12]]\n",
      "array3 배열 차원 : 3\n",
      "<class 'numpy.ndarray'>\n",
      "[[[ 1  2  3]\n",
      "  [ 4  5  6]]\n",
      "\n",
      " [[ 7  8  9]\n",
      "  [10 11 12]]]\n",
      "array1 배열 차원 : 1\n",
      "<class 'numpy.ndarray'>\n",
      "[ 1  2  3  4  5  6  7  8  9 10 11 12]\n"
     ]
    }
   ],
   "source": [
    "#1차원을 2차원 배열로\n",
    "array1 = np.array([1,2,3,4,5,6,7,8,9,10,11,12])\n",
    "print(\"array1 배열 차원 :\", array1.ndim)\n",
    "array2 = array1.reshape(2,6)\n",
    "print(\"array2 배열 차원 :\", array2.ndim)\n",
    "print(type(array2), array2, sep='\\n')\n",
    "\n",
    "#1차원을 3차원 배열로\n",
    "array3 = array1.reshape(2,2,3)\n",
    "print(\"array3 배열 차원 :\", array3.ndim)\n",
    "print(type(array3), array3, sep='\\n')\n",
    "\n",
    "#3차원을 1차원 배열로\n",
    "array1 = array3.reshape(-1,)\n",
    "print(\"array1 배열 차원 :\", array1.ndim)\n",
    "print(type(array1), array1, sep='\\n')"
   ]
  },
  {
   "cell_type": "code",
   "execution_count": 80,
   "metadata": {},
   "outputs": [
    {
     "name": "stdout",
     "output_type": "stream",
     "text": [
      "오름차순 : [ 1  2  3  4  5  6  7  8  9 10 11 12]\n",
      "내림차순 : [12 11 10  9  8  7  6  5  4  3  2  1]\n"
     ]
    }
   ],
   "source": [
    "#1차원 배열 정렬, 오름차순, 내림차순\n",
    "array1 = np.array([1,11,7,4,5,9,3,8,6,12,2,10])\n",
    "\n",
    "descending = np.sort(array1)\n",
    "print(\"오름차순 :\", descending)\n",
    "ascending = np.sort(array1)[::-1]  \n",
    "print(\"내림차순 :\", ascending)"
   ]
  },
  {
   "cell_type": "code",
   "execution_count": 81,
   "metadata": {},
   "outputs": [
    {
     "name": "stdout",
     "output_type": "stream",
     "text": [
      "오름차순 Index : [ 0 10  6  3  4  8  2  7  5 11  1  9]\n",
      "오름차순 : [ 1  2  3  4  5  6  7  8  9 10 11 12]\n",
      "내림차순 Index : [ 9  1 11  5  7  2  8  4  3  6 10  0]\n",
      "내림차순 : [12 11 10  9  8  7  6  5  4  3  2  1]\n"
     ]
    }
   ],
   "source": [
    "#1차원 배열 정렬, 오름차순 인덱스, 내림차순 인덱스\n",
    "\n",
    "descendingIndex = np.argsort(array1)\n",
    "print(\"오름차순 Index :\", descendingIndex)\n",
    "print(\"오름차순 :\", array1[descendingIndex])\n",
    "ascendingIndex = np.argsort(array1)[::-1]  \n",
    "print(\"내림차순 Index :\", ascendingIndex)\n",
    "print(\"내림차순 :\", array1[ascendingIndex])"
   ]
  },
  {
   "cell_type": "code",
   "execution_count": 98,
   "metadata": {},
   "outputs": [
    {
     "name": "stdout",
     "output_type": "stream",
     "text": [
      "[[ 8  6  2  5]\n",
      " [ 3  7  1 11]]\n",
      "axis=0 :\n",
      "[[ 3  6  1  5]\n",
      " [ 8  7  2 11]]\n",
      "axis=1 :\n",
      "[[ 2  5  6  8]\n",
      " [ 1  3  7 11]]\n"
     ]
    }
   ],
   "source": [
    "#2차원 배열 정렬, axis 기준 정렬\n",
    "array2 = np.array([[8,6,2,5],[3,7,1,11]])  \n",
    "print(array2)\n",
    "axis1array2 = np.sort(array2, axis=0)\n",
    "print(\"axis=0 :\", axis1array2, sep='\\n')\n",
    "axis2array2 = np.sort(array2, axis=1)\n",
    "print(\"axis=1 :\", axis2array2, sep='\\n')"
   ]
  },
  {
   "cell_type": "code",
   "execution_count": null,
   "metadata": {},
   "outputs": [],
   "source": []
  }
 ],
 "metadata": {
  "kernelspec": {
   "display_name": "Python 3",
   "language": "python",
   "name": "python3"
  },
  "language_info": {
   "codemirror_mode": {
    "name": "ipython",
    "version": 3
   },
   "file_extension": ".py",
   "mimetype": "text/x-python",
   "name": "python",
   "nbconvert_exporter": "python",
   "pygments_lexer": "ipython3",
   "version": "3.8.5"
  }
 },
 "nbformat": 4,
 "nbformat_minor": 4
}
