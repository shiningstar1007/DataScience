{
 "cells": [
  {
   "cell_type": "code",
   "execution_count": 10,
   "metadata": {},
   "outputs": [
    {
     "name": "stdout",
     "output_type": "stream",
     "text": [
      "2 + 3 =  5\n",
      "2 - 1 =  1\n",
      "2 * 3 =  6\n",
      "2 ** 3 =  8\n",
      "7 / 3 =  2.3333333333333335\n",
      "7 // 3 =  2\n",
      "7 % 3 =  1\n"
     ]
    }
   ],
   "source": [
    "# 산술 연산자\n",
    "# +, -, *, **, /, //, %\n",
    "\n",
    "intValue = 2 + 3 #더하기\n",
    "print(\"2 + 3 : \", intValue)\n",
    "\n",
    "intValue = 2 - 1 #빼기\n",
    "print(\"2 - 1 : \", intValue)\n",
    "\n",
    "intValue = 2 * 3 #곱하기\n",
    "print(\"2 * 3 : \", intValue)\n",
    "\n",
    "intValue = 2 ** 3 #제곱\n",
    "print(\"2 ** 3 : \", intValue)\n",
    "\n",
    "intValue = 7 / 3 #나누기\n",
    "print(\"7 / 3 : \", intValue)\n",
    "\n",
    "intValue = 7 // 3 #나눈 몫\n",
    "print(\"7 // 3 : \", intValue)\n",
    "\n",
    "intValue = 7 % 3 #나머지\n",
    "print(\"7 % 3 : \", intValue)"
   ]
  },
  {
   "cell_type": "code",
   "execution_count": 11,
   "metadata": {},
   "outputs": [
    {
     "name": "stdout",
     "output_type": "stream",
     "text": [
      "intValue += 3 :  5\n",
      "intValue -= 1 :  1\n",
      "intValue *= 3  :  18\n",
      "intValue **= 3: 512\n",
      "7 / 3 :  0.7777777777777778\n",
      "intValue //= 3 :  0\n",
      "intValue %= 3 :  1\n"
     ]
    }
   ],
   "source": [
    "# 대입 연산자\n",
    "# =, +=, -=, *= **=, /=, //=, %=\n",
    "\n",
    "intValue = 2 \n",
    "intValue += 3 #intValue와 3을 더한 후 intValue에 대입\n",
    "print(\"intValue += 3 : \", intValue)\n",
    "\n",
    "intValue = 2\n",
    "intValue -= 1 #intValue에서 1을 뺀 후 intValue에 대입\n",
    "print(\"intValue -= 1 : \", intValue)\n",
    "\n",
    "intValue = 2 * 3 #곱하기\n",
    "intValue *= 3 #intValue와 3을 곱한 후 intValue에 대입\n",
    "print(\"intValue *= 3  : \", intValue)\n",
    "\n",
    "intValue = 2 ** 3 #제곱\n",
    "intValue **= 3 #intValue의 3제곱을 구한 후 intValue에 대입\n",
    "print(\"intValue **= 3 : \", intValue)\n",
    "\n",
    "intValue = 7 / 3 #나누기\n",
    "intValue /= 3 #intValue에서 3을 나눈 후 intValue에 대입\n",
    "print(\"7 / 3 : \", intValue)\n",
    "\n",
    "intValue = 7 // 3 #나눈 몫\n",
    "intValue //= 3 #intValue에서 3을 나눈 몫을 intValue에 대입\n",
    "print(\"intValue //= 3 : \", intValue)\n",
    "\n",
    "intValue = 7 % 3 #나머지\n",
    "intValue %= 3 #intValue에서 3을 나눈 후 나머지 값을 intValue에 대입\n",
    "print(\"intValue %= 3 : \", intValue)"
   ]
  },
  {
   "cell_type": "code",
   "execution_count": 14,
   "metadata": {},
   "outputs": [
    {
     "name": "stdout",
     "output_type": "stream",
     "text": [
      "intValue1 == intValue2 :  False\n",
      "intValue1 != intValue2 :  True\n",
      "intValue1 >= intValue2 :  False\n",
      "intValue1 <= intValue2 :  True\n",
      "intValue1 > intValue2 :  False\n",
      "intValue1 <intValue2 :  True\n"
     ]
    }
   ],
   "source": [
    "# 관계 연산자\n",
    "# ==, !=, >=, <=, >, <\n",
    "\n",
    "intValue1 = 1\n",
    "intValue2 = 2\n",
    "\n",
    "boolValue = (intValue1 == intValue2) #intValue1 하고 intValue2가 같으면 참, 아니면 거짓\n",
    "print(\"intValue1 == intValue2 : \", boolValue)\n",
    "\n",
    "boolValue = (intValue1 != intValue2) #intValue1 하고 intValue2가 다르면 참, 아니면 거짓\n",
    "print(\"intValue1 != intValue2 : \", boolValue)\n",
    "\n",
    "boolValue = (intValue1 >= intValue2) #intValue1이 intValue2보다 크거나 같으면 참, 아니면 거짓\n",
    "print(\"intValue1 >= intValue2 : \", boolValue)\n",
    "\n",
    "boolValue = (intValue1 <= intValue2) #intValue1이 intValue2보다 작거나 참, 아니면 거짓\n",
    "print(\"intValue1 <= intValue2 : \", boolValue)\n",
    "\n",
    "boolValue = (intValue1 > intValue2) #intValue1이 intValue2보다 크면 참, 아니면 거짓\n",
    "print(\"intValue1 > intValue2 : \", boolValue)\n",
    "\n",
    "boolValue = (intValue1 < intValue2) #intValue1이 intValue2가 작으면 참, 아니면 거짓\n",
    "print(\"intValue1 <intValue2 : \", boolValue)"
   ]
  },
  {
   "cell_type": "code",
   "execution_count": 15,
   "metadata": {},
   "outputs": [
    {
     "name": "stdout",
     "output_type": "stream",
     "text": [
      "(intValue1 == 1) and (intValue2 == 1) :  False\n",
      "(intValue1 == 1) or (intValue2 == 1) :  True\n",
      "not(intValue1 == 1) :  False\n"
     ]
    }
   ],
   "source": [
    "# 논리 연산자 \n",
    "# and, or, not\n",
    "\n",
    "intValue1 = 1\n",
    "intValue2 = 2\n",
    "\n",
    "boolValue = (intValue1 == 1) and (intValue2 == 1) # intValue1 하고 intValue2가 모두 참이면 참, 아니면 거짓\n",
    "print(\"(intValue1 == 1) and (intValue2 == 1) : \", boolValue)\n",
    "\n",
    "boolValue = (intValue1 == 1) or (intValue2 == 1) # intValue1 또는 intValue2 중 하나만 참이면 참, 아니면 거짓\n",
    "print(\"(intValue1 == 1) or (intValue2 == 1) : \", boolValue)\n",
    "\n",
    "boolValue = not(intValue1 == 1) # intValue1이 거짓이면 참, 참이면 거짓\n",
    "print(\"not(intValue1 == 1) : \", boolValue)"
   ]
  },
  {
   "cell_type": "code",
   "execution_count": 2,
   "metadata": {},
   "outputs": [
    {
     "name": "stdout",
     "output_type": "stream",
     "text": [
      "11 11.23\n"
     ]
    }
   ],
   "source": [
    "# 문자열을 숫자로 변경 하는 방법  \n",
    "# int() : 문자열을 정수로 변환  \n",
    "# float() : 문자열을 실수로 변환  \n",
    " \n",
    "intString1 = \"10\"  \n",
    "floatString1 = \"10.23\"  \n",
    "print(int(intString1) + 1, float(floatString1) + 1)  "
   ]
  },
  {
   "cell_type": "code",
   "execution_count": 6,
   "metadata": {},
   "outputs": [
    {
     "name": "stdout",
     "output_type": "stream",
     "text": [
      "<class 'str'> 10\n",
      "<class 'str'> 11.11\n"
     ]
    }
   ],
   "source": [
    "# 숫자를 문자열로 변경 하는 방법  \n",
    "# str(): 숫자를 문자열로 변환  \n",
    "\n",
    "intValue = 10\n",
    "intString = str(intValue)\n",
    "floatValue = 11.11\n",
    "floatString = str(floatValue)\n",
    "\n",
    "print(type(intString), intString)\n",
    "print(type(floatString), floatString)"
   ]
  },
  {
   "cell_type": "code",
   "execution_count": null,
   "metadata": {},
   "outputs": [],
   "source": []
  }
 ],
 "metadata": {
  "kernelspec": {
   "display_name": "Python 3",
   "language": "python",
   "name": "python3"
  },
  "language_info": {
   "codemirror_mode": {
    "name": "ipython",
    "version": 3
   },
   "file_extension": ".py",
   "mimetype": "text/x-python",
   "name": "python",
   "nbconvert_exporter": "python",
   "pygments_lexer": "ipython3",
   "version": "3.8.5"
  }
 },
 "nbformat": 4,
 "nbformat_minor": 4
}
