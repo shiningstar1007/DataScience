{
 "cells": [
  {
   "cell_type": "code",
   "execution_count": 5,
   "metadata": {},
   "outputs": [
    {
     "name": "stdout",
     "output_type": "stream",
     "text": [
      "for 0\n",
      "for 1\n",
      "for 2\n",
      "\n",
      "for 0\n",
      "for 1\n",
      "for 2\n"
     ]
    }
   ],
   "source": [
    "# for 문 기본 형식  \n",
    "\n",
    "# 초기값, 종료값, 증가값\n",
    "for intValue in range(0, 3, 1):\n",
    "    print(\"for %d\" % intValue)\n",
    "    \n",
    "print()\n",
    "\n",
    "# 종료값만 주면 0부터 종료값까지 1씩 값이 증가\n",
    "for intValue in range(3):\n",
    "    print(\"for %d\" % intValue)"
   ]
  },
  {
   "cell_type": "code",
   "execution_count": 11,
   "metadata": {},
   "outputs": [
    {
     "name": "stdout",
     "output_type": "stream",
     "text": [
      "while 1\n",
      "while 2\n",
      "while 3\n",
      "\n",
      "while 1\n",
      "while 3\n",
      "while 5\n",
      "while 7\n",
      "while 9\n"
     ]
    }
   ],
   "source": [
    "# while 문 기본 형식\n",
    "\n",
    "# 특정 조건에서 멈춤 break\n",
    "intValue = 0\n",
    "while True:\n",
    "    intValue += 1\n",
    "    print(\"while %d\" % intValue)\n",
    "    if (intValue == 3) : break\n",
    "\n",
    "# 특정 조건에서 건너 뛰기 continue\n",
    "print()    \n",
    "intValue = 0\n",
    "while True:\n",
    "    if (intValue == 10): break\n",
    "    intValue += 1\n",
    "    if (intValue % 2 == 0): continue\n",
    "    \n",
    "    print(\"while %d\" % intValue)\n"
   ]
  },
  {
   "cell_type": "code",
   "execution_count": null,
   "metadata": {},
   "outputs": [],
   "source": []
  }
 ],
 "metadata": {
  "kernelspec": {
   "display_name": "Python 3",
   "language": "python",
   "name": "python3"
  },
  "language_info": {
   "codemirror_mode": {
    "name": "ipython",
    "version": 3
   },
   "file_extension": ".py",
   "mimetype": "text/x-python",
   "name": "python",
   "nbconvert_exporter": "python",
   "pygments_lexer": "ipython3",
   "version": "3.8.5"
  }
 },
 "nbformat": 4,
 "nbformat_minor": 4
}
