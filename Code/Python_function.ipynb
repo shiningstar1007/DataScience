{
 "cells": [
  {
   "cell_type": "code",
   "execution_count": 1,
   "metadata": {},
   "outputs": [
    {
     "name": "stdout",
     "output_type": "stream",
     "text": [
      "1 : 사과, 2 : 배, 3 : 바나나\n",
      "어떤 과일을 구매하나요? 1\n",
      "\n",
      "사과 구입 완료!\n",
      "지불 금액은 1000 입니다.\n"
     ]
    }
   ],
   "source": [
    "# 함수 선언  \n",
    "def fruitShop(fruitNumber):  \n",
    "    retPrice = 0  \n",
    "    \n",
    "    if fruitNumber == 1 :  \n",
    "        print(\"사과 구입 완료!\")  \n",
    "        retPrice = 1000  \n",
    "    elif fruitNumber == 2 :  \n",
    "        print(\"배 구입 완료!\")  \n",
    "        retPrice = 2000  \n",
    "    elif fruitNumber == 3 :  \n",
    "        print(\"바나나 구입 완료!\")  \n",
    "        retPrice = 3000  \n",
    "    else :  \n",
    "        print(\"없는 과일 입니다.\")  \n",
    "    \n",
    "    return retPrice  \n",
    "\n",
    "# 메인 코드  \n",
    "print(\"1 : 사과, 2 : 배, 3 : 바나나\")  \n",
    "fruit = int(input(\"어떤 과일을 구매하나요? \"))  \n",
    "print()  \n",
    "price = fruitShop(fruit)  \n",
    "print(\"지불 금액은 %d 입니다.\" % price)     "
   ]
  },
  {
   "cell_type": "code",
   "execution_count": 7,
   "metadata": {},
   "outputs": [
    {
     "name": "stdout",
     "output_type": "stream",
     "text": [
      "[testFunc1]testValue : 10\n",
      "testFunc1() testValue : 20\n",
      "[testFunc2]testValue : 30\n",
      "testFunc2() testValue : 30\n"
     ]
    }
   ],
   "source": [
    "# 전역 변수  \n",
    "testValue = 20  \n",
    "\n",
    "def testFunc1() :  \n",
    "    # 지역 변수  \n",
    "    testValue = 10  \n",
    "    \n",
    "    print(\"[testFunc1]testValue : %d\" % testValue)  \n",
    "\n",
    "def testFunc2() :  \n",
    "    # 전역 변수 사용하도록 global 예약어 사용  \n",
    "    global testValue  \n",
    "    testValue = 30  \n",
    "    print(\"[testFunc2]testValue : %d\" % testValue)      \n",
    "    \n",
    "# 메인 코드  \n",
    "testFunc1()  \n",
    "print(\"testFunc1() testValue : %d\" % testValue)  \n",
    "testFunc2()  \n",
    "print(\"testFunc2() testValue : %d\" % testValue)  "
   ]
  },
  {
   "cell_type": "code",
   "execution_count": 8,
   "metadata": {},
   "outputs": [],
   "source": [
    "# 예약어\n",
    "def testFunc() :  \n",
    "    pass  "
   ]
  },
  {
   "cell_type": "code",
   "execution_count": 11,
   "metadata": {},
   "outputs": [
    {
     "name": "stdout",
     "output_type": "stream",
     "text": [
      "매개변수 1개일 때의 합 : 20\n",
      "매개변수 2개일 때의 합 : 50\n"
     ]
    }
   ],
   "source": [
    "# 매개변수 default 설정\n",
    "def sumFunc(num1, num2 = 0) :  \n",
    "    retSum = num1 + num2  \n",
    "    \n",
    "    return retSum  \n",
    "\n",
    "hap = 0  \n",
    "\n",
    "hap = sumFunc(20)\n",
    "print(\"매개변수 1개일 때의 합 : %d\" % hap)  \n",
    "hap = sumFunc(20, 30)  \n",
    "print(\"매개변수 2개일 때의 합 : %d\" % hap)  "
   ]
  },
  {
   "cell_type": "code",
   "execution_count": 22,
   "metadata": {},
   "outputs": [
    {
     "name": "stdout",
     "output_type": "stream",
     "text": [
      "Python_Module_Test1\n"
     ]
    },
    {
     "data": {
      "text/plain": [
       "30"
      ]
     },
     "execution_count": 22,
     "metadata": {},
     "output_type": "execute_result"
    }
   ],
   "source": [
    "# Python_Module 추가\n",
    "import Python_Module\n",
    "\n",
    "Python_Module.Python_Module_Test1()\n",
    "\n",
    "Python_Module.Python_Module_Test2(10, 20)\n"
   ]
  },
  {
   "cell_type": "code",
   "execution_count": 27,
   "metadata": {},
   "outputs": [
    {
     "name": "stdout",
     "output_type": "stream",
     "text": [
      "Python_Module_Test1\n"
     ]
    },
    {
     "data": {
      "text/plain": [
       "40"
      ]
     },
     "execution_count": 27,
     "metadata": {},
     "output_type": "execute_result"
    }
   ],
   "source": [
    "# 모듈명 생략\n",
    "from Python_Module import Python_Module_Test1\n",
    "from Python_Module import Python_Module_Test2\n",
    "\n",
    "Python_Module_Test1()\n",
    "\n",
    "Python_Module.Python_Module_Test2(20, 20)"
   ]
  },
  {
   "cell_type": "code",
   "execution_count": 30,
   "metadata": {},
   "outputs": [
    {
     "data": {
      "text/plain": [
       "10"
      ]
     },
     "execution_count": 30,
     "metadata": {},
     "output_type": "execute_result"
    }
   ],
   "source": [
    "# Call by Value\n",
    "\n",
    "def callByValue(param):\n",
    "    param = 100\n",
    "    \n",
    "data = 10\n",
    "callByValue(data)\n",
    "data"
   ]
  },
  {
   "cell_type": "code",
   "execution_count": 33,
   "metadata": {},
   "outputs": [
    {
     "data": {
      "text/plain": [
       "[100, 2, 3]"
      ]
     },
     "execution_count": 33,
     "metadata": {},
     "output_type": "execute_result"
    }
   ],
   "source": [
    "# Call by Reference\n",
    "\n",
    "def callByReference(param):\n",
    "    param[0] = 100\n",
    "    \n",
    "intList = [1,2,3]\n",
    "callByReference(intList)\n",
    "intList"
   ]
  }
 ],
 "metadata": {
  "kernelspec": {
   "display_name": "Python 3",
   "language": "python",
   "name": "python3"
  },
  "language_info": {
   "codemirror_mode": {
    "name": "ipython",
    "version": 3
   },
   "file_extension": ".py",
   "mimetype": "text/x-python",
   "name": "python",
   "nbconvert_exporter": "python",
   "pygments_lexer": "ipython3",
   "version": "3.8.5"
  }
 },
 "nbformat": 4,
 "nbformat_minor": 4
}
