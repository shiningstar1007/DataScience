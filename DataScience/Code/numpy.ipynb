{
 "cells": [
  {
   "cell_type": "code",
   "execution_count": 1,
   "metadata": {},
   "outputs": [
    {
     "data": {
      "text/plain": [
       "array([[ 0,  1,  2,  3,  4],\n",
       "       [ 5,  6,  7,  8,  9],\n",
       "       [10, 11, 12, 13, 14]])"
      ]
     },
     "execution_count": 1,
     "metadata": {},
     "output_type": "execute_result"
    }
   ],
   "source": [
    "import numpy as np\n",
    "\n",
    "numdata2 = np.arange(15).reshape(3,5)\n",
    "numdata2"
   ]
  },
  {
   "cell_type": "code",
   "execution_count": 2,
   "metadata": {},
   "outputs": [
    {
     "data": {
      "text/plain": [
       "array([[[ 0,  1,  2],\n",
       "        [ 3,  4,  5],\n",
       "        [ 6,  7,  8],\n",
       "        [ 9, 10, 11]],\n",
       "\n",
       "       [[12, 13, 14],\n",
       "        [15, 16, 17],\n",
       "        [18, 19, 20],\n",
       "        [21, 22, 23]]])"
      ]
     },
     "execution_count": 2,
     "metadata": {},
     "output_type": "execute_result"
    }
   ],
   "source": [
    "numdata3 = np.arange(24).reshape(2,4,3)\n",
    "\n",
    "numdata3"
   ]
  },
  {
   "cell_type": "code",
   "execution_count": 3,
   "metadata": {},
   "outputs": [
    {
     "name": "stdout",
     "output_type": "stream",
     "text": [
      "13\n",
      "[3 8]\n",
      "[ 1  6 11]\n",
      "[[5 6 7 8 9]]\n"
     ]
    }
   ],
   "source": [
    "print(numdata2[2,3])\n",
    "print(numdata2[0:2,3])\n",
    "print(numdata2[:,1])\n",
    "print(numdata2[1:2,:])"
   ]
  },
  {
   "cell_type": "code",
   "execution_count": 4,
   "metadata": {},
   "outputs": [
    {
     "data": {
      "text/plain": [
       "array([[False, False, False, False, False],\n",
       "       [ True,  True,  True,  True,  True],\n",
       "       [ True,  True,  True,  True,  True]])"
      ]
     },
     "execution_count": 4,
     "metadata": {},
     "output_type": "execute_result"
    }
   ],
   "source": [
    "booldata = numdata2 > 4\n",
    "booldata"
   ]
  },
  {
   "cell_type": "code",
   "execution_count": 5,
   "metadata": {},
   "outputs": [
    {
     "data": {
      "text/plain": [
       "array([ 5,  6,  7,  8,  9, 10, 11, 12, 13, 14])"
      ]
     },
     "execution_count": 5,
     "metadata": {},
     "output_type": "execute_result"
    }
   ],
   "source": [
    "numdata2[booldata]"
   ]
  },
  {
   "cell_type": "code",
   "execution_count": 6,
   "metadata": {},
   "outputs": [
    {
     "data": {
      "text/plain": [
       "array([ 9, 18, 27, 36])"
      ]
     },
     "execution_count": 6,
     "metadata": {},
     "output_type": "execute_result"
    }
   ],
   "source": [
    "tmpdata1 = np.array([10,20,30,40])\n",
    "tmpdata2 = np.array([1,2,3,4])\n",
    "\n",
    "tmpdata3 = tmpdata1 - tmpdata2\n",
    "tmpdata3 "
   ]
  },
  {
   "cell_type": "code",
   "execution_count": 7,
   "metadata": {},
   "outputs": [
    {
     "name": "stdout",
     "output_type": "stream",
     "text": [
      "[[26 24 23  1 11]\n",
      " [ 5 20 23 26  8]\n",
      " [ 5 10  9 17 28]]\n",
      "28\n",
      "1\n",
      "236\n"
     ]
    }
   ],
   "source": [
    "randomdata = np.random.randint(1,30, (3,5), dtype=int)\n",
    "print(randomdata)\n",
    "print(randomdata.max())\n",
    "print(randomdata.min())\n",
    "print(randomdata.sum())"
   ]
  },
  {
   "cell_type": "code",
   "execution_count": 8,
   "metadata": {},
   "outputs": [
    {
     "name": "stdout",
     "output_type": "stream",
     "text": [
      "[[ 0  1  2  3  4]\n",
      " [ 5  6  7  8  9]\n",
      " [10 11 12 13 14]] \n",
      "\n",
      "[15 18 21 24 27] \n",
      "\n",
      "[ 0  5 10] \n",
      "\n",
      "[10 11 12 13 14] \n",
      "\n",
      "[[ 0  1  3  6 10]\n",
      " [ 5 11 18 26 35]\n",
      " [10 21 33 46 60]]\n"
     ]
    }
   ],
   "source": [
    "randomdata1 = np.arange(15).reshape(3,5)\n",
    "print(randomdata1, \"\\n\")\n",
    "print(randomdata1.sum(axis=0), \"\\n\")\n",
    "print(randomdata1.min(axis=1), \"\\n\")\n",
    "print(randomdata1.max(axis=0), \"\\n\")\n",
    "print(randomdata1.cumsum(axis=1))"
   ]
  },
  {
   "cell_type": "code",
   "execution_count": 20,
   "metadata": {},
   "outputs": [],
   "source": [
    "#pip install ipywidgets\n",
    "#jupyter nbextension enable --py widgetsnbextension\n",
    "#conda install -c conda-forge ipywidgets\n",
    "\n",
    "%reload_ext autoreload\n",
    "%autoreload 2\n",
    "%matplotlib inline\n",
    "\n",
    "from matplotlib import pyplot as plt\n",
    "from matplotlib import rcParams\n",
    "import numpy as np\n",
    "from pathlib import Path\n",
    "import pandas as pd\n",
    "import seaborn as sns\n",
    "from tqdm.notebook import tqdm\n",
    "import warnings\n",
    "from ipywidgets import IntProgress\n",
    "\n",
    "rcParams['figure.figsize'] = (16, 8)\n",
    "plt.style.use('fivethirtyeight')\n",
    "pd.set_option('max_columns', 100)\n",
    "pd.set_option(\"display.precision\", 4)\n",
    "warnings.simplefilter('ignore')\n",
    "\n",
    "trn_file = './input/train.csv'\n",
    "seed = 42"
   ]
  },
  {
   "cell_type": "code",
   "execution_count": 21,
   "metadata": {},
   "outputs": [
    {
     "name": "stdout",
     "output_type": "stream",
     "text": [
      "(320000, 19)\n"
     ]
    },
    {
     "data": {
      "text/html": [
       "<div>\n",
       "<style scoped>\n",
       "    .dataframe tbody tr th:only-of-type {\n",
       "        vertical-align: middle;\n",
       "    }\n",
       "\n",
       "    .dataframe tbody tr th {\n",
       "        vertical-align: top;\n",
       "    }\n",
       "\n",
       "    .dataframe thead th {\n",
       "        text-align: right;\n",
       "    }\n",
       "</style>\n",
       "<table border=\"1\" class=\"dataframe\">\n",
       "  <thead>\n",
       "    <tr style=\"text-align: right;\">\n",
       "      <th></th>\n",
       "      <th>u</th>\n",
       "      <th>g</th>\n",
       "      <th>r</th>\n",
       "      <th>i</th>\n",
       "      <th>z</th>\n",
       "      <th>redshift</th>\n",
       "      <th>dered_u</th>\n",
       "      <th>dered_g</th>\n",
       "      <th>dered_r</th>\n",
       "      <th>dered_i</th>\n",
       "      <th>dered_z</th>\n",
       "      <th>nObserve</th>\n",
       "      <th>nDetect</th>\n",
       "      <th>airmass_u</th>\n",
       "      <th>airmass_g</th>\n",
       "      <th>airmass_r</th>\n",
       "      <th>airmass_i</th>\n",
       "      <th>airmass_z</th>\n",
       "      <th>class</th>\n",
       "    </tr>\n",
       "    <tr>\n",
       "      <th>id</th>\n",
       "      <th></th>\n",
       "      <th></th>\n",
       "      <th></th>\n",
       "      <th></th>\n",
       "      <th></th>\n",
       "      <th></th>\n",
       "      <th></th>\n",
       "      <th></th>\n",
       "      <th></th>\n",
       "      <th></th>\n",
       "      <th></th>\n",
       "      <th></th>\n",
       "      <th></th>\n",
       "      <th></th>\n",
       "      <th></th>\n",
       "      <th></th>\n",
       "      <th></th>\n",
       "      <th></th>\n",
       "      <th></th>\n",
       "    </tr>\n",
       "  </thead>\n",
       "  <tbody>\n",
       "    <tr>\n",
       "      <th>0</th>\n",
       "      <td>23.2640</td>\n",
       "      <td>20.3368</td>\n",
       "      <td>19.0095</td>\n",
       "      <td>17.6724</td>\n",
       "      <td>16.9396</td>\n",
       "      <td>-8.1086e-05</td>\n",
       "      <td>23.1243</td>\n",
       "      <td>20.2578</td>\n",
       "      <td>18.9551</td>\n",
       "      <td>17.6321</td>\n",
       "      <td>16.9089</td>\n",
       "      <td>18</td>\n",
       "      <td>18</td>\n",
       "      <td>1.1898</td>\n",
       "      <td>1.1907</td>\n",
       "      <td>1.1890</td>\n",
       "      <td>1.1894</td>\n",
       "      <td>1.1902</td>\n",
       "      <td>0</td>\n",
       "    </tr>\n",
       "    <tr>\n",
       "      <th>1</th>\n",
       "      <td>15.0521</td>\n",
       "      <td>14.0620</td>\n",
       "      <td>13.4524</td>\n",
       "      <td>13.2684</td>\n",
       "      <td>13.1689</td>\n",
       "      <td>4.5061e-03</td>\n",
       "      <td>14.9664</td>\n",
       "      <td>14.0045</td>\n",
       "      <td>13.4114</td>\n",
       "      <td>13.2363</td>\n",
       "      <td>13.1347</td>\n",
       "      <td>1</td>\n",
       "      <td>1</td>\n",
       "      <td>1.2533</td>\n",
       "      <td>1.2578</td>\n",
       "      <td>1.2488</td>\n",
       "      <td>1.2510</td>\n",
       "      <td>1.2555</td>\n",
       "      <td>1</td>\n",
       "    </tr>\n",
       "    <tr>\n",
       "      <th>2</th>\n",
       "      <td>16.7864</td>\n",
       "      <td>15.8254</td>\n",
       "      <td>15.5363</td>\n",
       "      <td>15.3935</td>\n",
       "      <td>15.3500</td>\n",
       "      <td>4.7198e-04</td>\n",
       "      <td>16.6076</td>\n",
       "      <td>15.6866</td>\n",
       "      <td>15.4400</td>\n",
       "      <td>15.3217</td>\n",
       "      <td>15.2961</td>\n",
       "      <td>2</td>\n",
       "      <td>2</td>\n",
       "      <td>1.0225</td>\n",
       "      <td>1.0241</td>\n",
       "      <td>1.0210</td>\n",
       "      <td>1.0217</td>\n",
       "      <td>1.0233</td>\n",
       "      <td>0</td>\n",
       "    </tr>\n",
       "    <tr>\n",
       "      <th>3</th>\n",
       "      <td>25.6606</td>\n",
       "      <td>21.1887</td>\n",
       "      <td>20.2212</td>\n",
       "      <td>19.8949</td>\n",
       "      <td>19.6346</td>\n",
       "      <td>5.8143e-06</td>\n",
       "      <td>25.3536</td>\n",
       "      <td>20.9947</td>\n",
       "      <td>20.0873</td>\n",
       "      <td>19.7947</td>\n",
       "      <td>19.5552</td>\n",
       "      <td>4</td>\n",
       "      <td>3</td>\n",
       "      <td>1.2054</td>\n",
       "      <td>1.2061</td>\n",
       "      <td>1.2049</td>\n",
       "      <td>1.2051</td>\n",
       "      <td>1.2057</td>\n",
       "      <td>0</td>\n",
       "    </tr>\n",
       "    <tr>\n",
       "      <th>4</th>\n",
       "      <td>24.4534</td>\n",
       "      <td>20.6992</td>\n",
       "      <td>19.0424</td>\n",
       "      <td>18.3242</td>\n",
       "      <td>17.9826</td>\n",
       "      <td>-3.3247e-05</td>\n",
       "      <td>23.7714</td>\n",
       "      <td>20.4338</td>\n",
       "      <td>18.8630</td>\n",
       "      <td>18.1903</td>\n",
       "      <td>17.8759</td>\n",
       "      <td>13</td>\n",
       "      <td>12</td>\n",
       "      <td>1.1939</td>\n",
       "      <td>1.1943</td>\n",
       "      <td>1.1937</td>\n",
       "      <td>1.1938</td>\n",
       "      <td>1.1941</td>\n",
       "      <td>0</td>\n",
       "    </tr>\n",
       "  </tbody>\n",
       "</table>\n",
       "</div>"
      ],
      "text/plain": [
       "          u        g        r        i        z    redshift  dered_u  dered_g  \\\n",
       "id                                                                              \n",
       "0   23.2640  20.3368  19.0095  17.6724  16.9396 -8.1086e-05  23.1243  20.2578   \n",
       "1   15.0521  14.0620  13.4524  13.2684  13.1689  4.5061e-03  14.9664  14.0045   \n",
       "2   16.7864  15.8254  15.5363  15.3935  15.3500  4.7198e-04  16.6076  15.6866   \n",
       "3   25.6606  21.1887  20.2212  19.8949  19.6346  5.8143e-06  25.3536  20.9947   \n",
       "4   24.4534  20.6992  19.0424  18.3242  17.9826 -3.3247e-05  23.7714  20.4338   \n",
       "\n",
       "    dered_r  dered_i  dered_z  nObserve  nDetect  airmass_u  airmass_g  \\\n",
       "id                                                                       \n",
       "0   18.9551  17.6321  16.9089        18       18     1.1898     1.1907   \n",
       "1   13.4114  13.2363  13.1347         1        1     1.2533     1.2578   \n",
       "2   15.4400  15.3217  15.2961         2        2     1.0225     1.0241   \n",
       "3   20.0873  19.7947  19.5552         4        3     1.2054     1.2061   \n",
       "4   18.8630  18.1903  17.8759        13       12     1.1939     1.1943   \n",
       "\n",
       "    airmass_r  airmass_i  airmass_z  class  \n",
       "id                                          \n",
       "0      1.1890     1.1894     1.1902      0  \n",
       "1      1.2488     1.2510     1.2555      1  \n",
       "2      1.0210     1.0217     1.0233      0  \n",
       "3      1.2049     1.2051     1.2057      0  \n",
       "4      1.1937     1.1938     1.1941      0  "
      ]
     },
     "execution_count": 21,
     "metadata": {},
     "output_type": "execute_result"
    }
   ],
   "source": [
    "trn = pd.read_csv(trn_file, index_col=0)\n",
    "print(trn.shape)\n",
    "trn.head()"
   ]
  },
  {
   "cell_type": "code",
   "execution_count": 22,
   "metadata": {},
   "outputs": [
    {
     "data": {
      "text/plain": [
       "<seaborn.axisgrid.PairGrid at 0x225caa60af0>"
      ]
     },
     "execution_count": 22,
     "metadata": {},
     "output_type": "execute_result"
    },
    {
     "data": {
      "image/png": "[encoded data removed]",
      "text/plain": [
       "<Figure size 779.275x720 with 6 Axes>"
      ]
     },
     "metadata": {},
     "output_type": "display_data"
    }
   ],
   "source": [
    "sns.pairplot(trn.sample(n=10000), vars=['u', 'dered_u'], hue='class', size=5)"
   ]
  },
  {
   "cell_type": "code",
   "execution_count": 23,
   "metadata": {},
   "outputs": [],
   "source": [
    "#RMSE 손실함수 정의\n",
    "# rmse = lamda y, p:np.sqrt(np.mean((y - p) ** 2)))\n",
    "\n",
    "def rmse(y, p):\n",
    "    return np.sqrt(np.mean((y - p) ** 2))"
   ]
  },
  {
   "cell_type": "code",
   "execution_count": 24,
   "metadata": {},
   "outputs": [
    {
     "name": "stdout",
     "output_type": "stream",
     "text": [
      "(200004, 1) (200004, 1)\n"
     ]
    }
   ],
   "source": [
    "X = trn[trn['class'] != 0][['u']].values\n",
    "y = trn[trn['class'] != 0][['dered_u']].values\n",
    "\n",
    "print(X.shape, y.shape)"
   ]
  },
  {
   "cell_type": "code",
   "execution_count": 25,
   "metadata": {},
   "outputs": [
    {
     "data": {
      "text/plain": [
       "(200004,)"
      ]
     },
     "execution_count": 25,
     "metadata": {},
     "output_type": "execute_result"
    }
   ],
   "source": [
    "# NumPy를 이용한 선형회귀\n",
    "\n",
    "alpha = .001\n",
    "theta0 = .1\n",
    "theta1 = .1\n",
    "epoch =4\n",
    "\n",
    "x = X.flatten()\n",
    "x.shape"
   ]
  },
  {
   "cell_type": "code",
   "execution_count": 26,
   "metadata": {},
   "outputs": [
    {
     "data": {
      "application/vnd.jupyter.widget-view+json": {
       "model_id": "3218332969a6462c86b031d28204fa6f",
       "version_major": 2,
       "version_minor": 0
      },
      "text/plain": [
       "HBox(children=(HTML(value=''), FloatProgress(value=0.0, max=4.0), HTML(value='')))"
      ]
     },
     "metadata": {},
     "output_type": "display_data"
    },
    {
     "name": "stdout",
     "output_type": "stream",
     "text": [
      "\n"
     ]
    },
    {
     "ename": "MemoryError",
     "evalue": "Unable to allocate 298. GiB for an array with shape (200004, 200004) and data type float64",
     "output_type": "error",
     "traceback": [
      "\u001b[1;31m---------------------------------------------------------------------------\u001b[0m",
      "\u001b[1;31mMemoryError\u001b[0m                               Traceback (most recent call last)",
      "\u001b[1;32m<ipython-input-26-c97efcb14b6e>\u001b[0m in \u001b[0;36m<module>\u001b[1;34m\u001b[0m\n\u001b[0;32m      5\u001b[0m         \u001b[0mtheta0\u001b[0m \u001b[1;33m=\u001b[0m \u001b[0mtheta0\u001b[0m \u001b[1;33m+\u001b[0m \u001b[0malpha\u001b[0m \u001b[1;33m*\u001b[0m \u001b[1;33m(\u001b[0m\u001b[0my_i\u001b[0m \u001b[1;33m-\u001b[0m \u001b[0mp_i\u001b[0m\u001b[1;33m)\u001b[0m\u001b[1;33m\u001b[0m\u001b[1;33m\u001b[0m\u001b[0m\n\u001b[0;32m      6\u001b[0m         \u001b[0mtheta1\u001b[0m \u001b[1;33m=\u001b[0m \u001b[0mtheta1\u001b[0m \u001b[1;33m+\u001b[0m \u001b[0malpha\u001b[0m \u001b[1;33m*\u001b[0m \u001b[1;33m(\u001b[0m\u001b[0my_i\u001b[0m \u001b[1;33m-\u001b[0m \u001b[0mp_i\u001b[0m\u001b[1;33m)\u001b[0m \u001b[1;33m*\u001b[0m \u001b[0mx_i\u001b[0m\u001b[1;33m\u001b[0m\u001b[1;33m\u001b[0m\u001b[0m\n\u001b[1;32m----> 7\u001b[1;33m     \u001b[0mrmses\u001b[0m\u001b[1;33m.\u001b[0m\u001b[0mappend\u001b[0m\u001b[1;33m(\u001b[0m\u001b[0mrmse\u001b[0m\u001b[1;33m(\u001b[0m\u001b[0my\u001b[0m\u001b[1;33m,\u001b[0m \u001b[0mtheta0\u001b[0m \u001b[1;33m+\u001b[0m \u001b[0mtheta1\u001b[0m \u001b[1;33m*\u001b[0m \u001b[0mx\u001b[0m\u001b[1;33m)\u001b[0m\u001b[1;33m)\u001b[0m\u001b[1;33m\u001b[0m\u001b[1;33m\u001b[0m\u001b[0m\n\u001b[0m",
      "\u001b[1;32m<ipython-input-23-ba0f386b7472>\u001b[0m in \u001b[0;36mrmse\u001b[1;34m(y, p)\u001b[0m\n\u001b[0;32m      3\u001b[0m \u001b[1;33m\u001b[0m\u001b[0m\n\u001b[0;32m      4\u001b[0m \u001b[1;32mdef\u001b[0m \u001b[0mrmse\u001b[0m\u001b[1;33m(\u001b[0m\u001b[0my\u001b[0m\u001b[1;33m,\u001b[0m \u001b[0mp\u001b[0m\u001b[1;33m)\u001b[0m\u001b[1;33m:\u001b[0m\u001b[1;33m\u001b[0m\u001b[1;33m\u001b[0m\u001b[0m\n\u001b[1;32m----> 5\u001b[1;33m     \u001b[1;32mreturn\u001b[0m \u001b[0mnp\u001b[0m\u001b[1;33m.\u001b[0m\u001b[0msqrt\u001b[0m\u001b[1;33m(\u001b[0m\u001b[0mnp\u001b[0m\u001b[1;33m.\u001b[0m\u001b[0mmean\u001b[0m\u001b[1;33m(\u001b[0m\u001b[1;33m(\u001b[0m\u001b[0my\u001b[0m \u001b[1;33m-\u001b[0m \u001b[0mp\u001b[0m\u001b[1;33m)\u001b[0m \u001b[1;33m**\u001b[0m \u001b[1;36m2\u001b[0m\u001b[1;33m)\u001b[0m\u001b[1;33m)\u001b[0m\u001b[1;33m\u001b[0m\u001b[1;33m\u001b[0m\u001b[0m\n\u001b[0m",
      "\u001b[1;31mMemoryError\u001b[0m: Unable to allocate 298. GiB for an array with shape (200004, 200004) and data type float64"
     ]
    }
   ],
   "source": [
    "rmses = []\n",
    "for i in tqdm(range(epoch)):\n",
    "    for x_i, y_i in zip(x, y):\n",
    "        p_i =  theta0 + theta1 * x_i\n",
    "        theta0 = theta0 + alpha * (y_i - p_i)\n",
    "        theta1 = theta1 + alpha * (y_i - p_i) * x_i\n",
    "    rmses.append(rmse(y, theta0 + theta1 * x))"
   ]
  },
  {
   "cell_type": "code",
   "execution_count": null,
   "metadata": {},
   "outputs": [],
   "source": []
  },
  {
   "cell_type": "code",
   "execution_count": null,
   "metadata": {},
   "outputs": [],
   "source": []
  },
  {
   "cell_type": "code",
   "execution_count": null,
   "metadata": {},
   "outputs": [],
   "source": []
  },
  {
   "cell_type": "code",
   "execution_count": null,
   "metadata": {},
   "outputs": [],
   "source": []
  },
  {
   "cell_type": "code",
   "execution_count": null,
   "metadata": {},
   "outputs": [],
   "source": []
  },
  {
   "cell_type": "code",
   "execution_count": null,
   "metadata": {},
   "outputs": [],
   "source": []
  },
  {
   "cell_type": "code",
   "execution_count": null,
   "metadata": {},
   "outputs": [],
   "source": []
  },
  {
   "cell_type": "code",
   "execution_count": null,
   "metadata": {},
   "outputs": [],
   "source": []
  },
  {
   "cell_type": "code",
   "execution_count": null,
   "metadata": {},
   "outputs": [],
   "source": []
  },
  {
   "cell_type": "code",
   "execution_count": null,
   "metadata": {},
   "outputs": [],
   "source": []
  },
  {
   "cell_type": "code",
   "execution_count": null,
   "metadata": {},
   "outputs": [],
   "source": []
  },
  {
   "cell_type": "code",
   "execution_count": null,
   "metadata": {},
   "outputs": [],
   "source": []
  },
  {
   "cell_type": "code",
   "execution_count": null,
   "metadata": {},
   "outputs": [],
   "source": []
  },
  {
   "cell_type": "code",
   "execution_count": null,
   "metadata": {},
   "outputs": [],
   "source": []
  }
 ],
 "metadata": {
  "kernelspec": {
   "display_name": "Python 3",
   "language": "python",
   "name": "python3"
  },
  "language_info": {
   "codemirror_mode": {
    "name": "ipython",
    "version": 3
   },
   "file_extension": ".py",
   "mimetype": "text/x-python",
   "name": "python",
   "nbconvert_exporter": "python",
   "pygments_lexer": "ipython3",
   "version": "3.8.5"
  }
 },
 "nbformat": 4,
 "nbformat_minor": 4
}
