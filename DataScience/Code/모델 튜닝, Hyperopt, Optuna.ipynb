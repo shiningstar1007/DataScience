{
 "cells": [
  {
   "cell_type": "markdown",
   "metadata": {},
   "source": [
    "# 모델 튜닝 (HPO) - Scikit-Learn"
   ]
  },
  {
   "cell_type": "markdown",
   "metadata": {},
   "source": [
    "## GridSearchCV\n",
    "- 검색하고자 하는 피처 값들의 모든 조합을 사용하여 모델을 학습/검증 후 최고의 모델 선택\n",
    "\n",
    "## RandomizedSearchCV\n",
    "- 검색하고자 하는 피처 값들의 조합 중 N개의 조합을 임의로 선택하여 모델을 학습/검증 후 최고의 모델 선택\n",
    "- 피처 값의 범위 혹은 분포를 지정할 수 있음\n",
    "\n",
    "https://scikit-learn.org/stable/modules/generated/sklearn.linear_model.LinearRegression\n",
    "\n",
    "https://lightgbm.readthedocs.io/en/latest/pythonapi/lightgbm.LGBMClassifier.html#lightgbm.LGBMClassifier\n",
    "\n",
    "https://scikit-learn.org/stable/auto_examples/model_selection/plot_randomized_search.html#sphx-glr-auto-examples-model-selection-plot-randomized-search"
   ]
  },
  {
   "cell_type": "code",
   "execution_count": 11,
   "metadata": {
    "scrolled": true
   },
   "outputs": [],
   "source": [
    "from sklearn.linear_model import SGDClassifier\n",
    "import numpy as np\n",
    "\n",
    "clf = SGDClassifier(loss='hinge', penalty='elasticnet', fit_intercept=True)"
   ]
  },
  {
   "cell_type": "code",
   "execution_count": 13,
   "metadata": {},
   "outputs": [],
   "source": [
    "from sklearn.model_selection import GridSearchCV\n",
    "\n",
    "# use a full grid over all parameters\n",
    "param_grid = {'average' : [True, False],\n",
    "             'l1_ratio' : np.linspace(0, 1, num=10),\n",
    "             'alpha' : np.power(10, np.arange(-4, 1, dtype=float))}\n",
    "\n",
    "# run grid search\n",
    "grid_search = GridSearchCV(clf, param_grid=param_grid)\n",
    "start = time()\n",
    "grid_search.fit(X, y)"
   ]
  },
  {
   "cell_type": "code",
   "execution_count": 5,
   "metadata": {},
   "outputs": [],
   "source": [
    "from sklearn.model_selection import RandomizedSearchCV\n",
    "\n",
    "# specify parameters and distributions to sample from\n",
    "param_dist = {'average' : [True, False],\n",
    "             'l1_ratio' : stats.uniform(0, 1),\n",
    "             'alpha' : np.power(10, loguniform(1e-4, 1e0))}\n",
    "\n",
    "# run randomized search\n",
    "n_iter_search = 20\n",
    "random_search = RandomizedSearchCV(clf, param_distributions=param_dist,\n",
    "                                  n_iter=n_iter_search)\n",
    "\n",
    "start = time()\n",
    "random_search.fit(X, y)"
   ]
  },
  {
   "cell_type": "markdown",
   "metadata": {},
   "source": [
    "# Hypteropt"
   ]
  },
  {
   "cell_type": "markdown",
   "metadata": {},
   "source": [
    "가장 널리 사용되는 모델 튜닝 (HPO) 라이브러리 중 하나\n",
    "\n",
    "- 2013년 Harvard의 James Bergstra와 MIT의 Dan Yamins가 Hpteropt를 ICML과 SciPy에서 발표\n",
    "- Tree-structured Parzen Esimator (TPE) 알고리즘 사용\n",
    "- scipy.optimize.minimize()와 비슷한 API 제공"
   ]
  },
  {
   "cell_type": "markdown",
   "metadata": {},
   "source": [
    "# Optuna\n",
    "\n",
    "최근 각광 받고 있는 모델 튜닝 (HPO) 라이브러리\n",
    "- 2019년 일본의 prefrred Networks사의 연구진들이 KDD에서 Optuna 발표\n",
    "- 기존 HPO 라이브러리들의 장점을 결합\n",
    "- 단순한 API\n",
    "| <center>Framework</center> | <center>API Style</center>| <center>Prunung</center> | <center>Lightweight</center>| <center>Distributed</center>| <center>DashBoard</center>| <center>OSS</center>  \n",
    "|:--------:|:--------:|:--------:|:--------:|:--------:|:--------:|:--------:|      \n",
    "|**<center>SMAC[3]</center>** |<center>define-and-run</center>|<center>X</center>|<center>O</center>|<center>X</center>|<center>X</center>|<center>O</center>|\n",
    "|**<center>GpyOpt</center>** |<center>define-and-run</center>|<center>X</center>|<center>O</center>|<center>X</center>|<center>X</center>|<center>O</center>|\n",
    "|**<center>Spearmint[2]</center>** |<center>define-and-run</center>|<center>X</center>|<center>O</center>|<center>O</center>|<center>X</center>|<center>O</center>|\n",
    "|**<center>Hyperopt[1]</center>** |<center>define-and-run</center>|<center>X</center>|<center>O</center>|<center>O</center>|<center>X</center>|<center>O</center>|\n",
    "|**<center>Autotune[4]</center>** |<center>define-and-run</center>|<center>O</center>|<center>X</center>|<center>O</center>|<center>O</center>|<center>X</center>|\n",
    "|**<center>Vizier[5]</center>** |<center>define-and-run</center>|<center>O</center>|<center>X</center>|<center>O</center>|<center>O</center>|<center>X</center>|\n",
    "|**<center>Katib</center>** |<center>define-and-run</center>|<center>O</center>|<center>X</center>|<center>O</center>|<center>O</center>|<center>O</center>|\n",
    "|**<center>Tune[7]</center>** |<center>define-and-run</center>|<center>O</center>|<center>X</center>|<center>O</center>|<center>O</center>|<center>O</center>|\n",
    "| <center>Optuna(this work)</center> | <center>define-by-run</center>| <center>O</center> | <center>O</center>| <center>O</center>| <center>O</center>| <center>O</center>  "
   ]
  },
  {
   "cell_type": "code",
   "execution_count": null,
   "metadata": {},
   "outputs": [],
   "source": []
  },
  {
   "cell_type": "code",
   "execution_count": null,
   "metadata": {},
   "outputs": [],
   "source": []
  }
 ],
 "metadata": {
  "kernelspec": {
   "display_name": "Python 3",
   "language": "python",
   "name": "python3"
  },
  "language_info": {
   "codemirror_mode": {
    "name": "ipython",
    "version": 3
   },
   "file_extension": ".py",
   "mimetype": "text/x-python",
   "name": "python",
   "nbconvert_exporter": "python",
   "pygments_lexer": "ipython3",
   "version": "3.7.9"
  }
 },
 "nbformat": 4,
 "nbformat_minor": 4
}
