{
 "cells": [
  {
   "cell_type": "code",
   "execution_count": 1,
   "metadata": {},
   "outputs": [
    {
     "name": "stdout",
     "output_type": "stream",
     "text": [
      "(6, 2)\n",
      "(506, 14)\n",
      "(150, 5)\n",
      "Index(['온도', '판매량'], dtype='object')\n",
      "Index(['crim', 'zn', 'indus', 'chas', 'nox', 'rm', 'age', 'dis', 'rad', 'tax',\n",
      "       'ptratio', 'b', 'lstat', 'medv'],\n",
      "      dtype='object')\n",
      "Index(['꽃잎길이', '꽃잎폭', '꽃받침길이', '꽃받침폭', '품종'], dtype='object')\n",
      "(6, 1) (6, 1)\n",
      "(506, 13) (506, 1)\n",
      "(150, 4) (150, 1)\n",
      "   온도  판매량\n",
      "0  20   40\n",
      "1  21   42\n",
      "2  22   44\n",
      "3  23   46\n",
      "4  24   48\n",
      "      crim    zn  indus  chas    nox     rm   age     dis  rad  tax  ptratio  \\\n",
      "0  0.00632  18.0   2.31     0  0.538  6.575  65.2  4.0900    1  296     15.3   \n",
      "1  0.02731   0.0   7.07     0  0.469  6.421  78.9  4.9671    2  242     17.8   \n",
      "2  0.02729   0.0   7.07     0  0.469  7.185  61.1  4.9671    2  242     17.8   \n",
      "3  0.03237   0.0   2.18     0  0.458  6.998  45.8  6.0622    3  222     18.7   \n",
      "4  0.06905   0.0   2.18     0  0.458  7.147  54.2  6.0622    3  222     18.7   \n",
      "\n",
      "        b  lstat  medv  \n",
      "0  396.90   4.98  24.0  \n",
      "1  396.90   9.14  21.6  \n",
      "2  392.83   4.03  34.7  \n",
      "3  394.63   2.94  33.4  \n",
      "4  396.90   5.33  36.2  \n",
      "   꽃잎길이  꽃잎폭  꽃받침길이  꽃받침폭      품종\n",
      "0   5.1  3.5    1.4   0.2  setosa\n",
      "1   4.9  3.0    1.4   0.2  setosa\n",
      "2   4.7  3.2    1.3   0.2  setosa\n",
      "3   4.6  3.1    1.5   0.2  setosa\n",
      "4   5.0  3.6    1.4   0.2  setosa\n"
     ]
    }
   ],
   "source": [
    "###########################\n",
    "# 라이브러리 사용\n",
    "import pandas as pd\n",
    " \n",
    "###########################\n",
    "# 파일로부터 데이터 읽어오기\n",
    "파일경로 = 'https://raw.githubusercontent.com/blackdew/tensorflow1/master/csv/lemonade.csv'\n",
    "레모네이드 = pd.read_csv(파일경로)\n",
    " \n",
    "파일경로 = 'https://raw.githubusercontent.com/blackdew/tensorflow1/master/csv/boston.csv'\n",
    "보스턴 = pd.read_csv(파일경로)\n",
    " \n",
    "파일경로 = 'https://raw.githubusercontent.com/blackdew/tensorflow1/master/csv/iris.csv'\n",
    "아이리스 = pd.read_csv(파일경로)\n",
    " \n",
    "###########################\n",
    "# 데이터의 모양확인\n",
    "print(레모네이드.shape)\n",
    "print(보스턴.shape)\n",
    "print(아이리스.shape)\n",
    " \n",
    "###########################\n",
    "# 데이터 칼럼이름 확인\n",
    "print(레모네이드.columns)\n",
    "print(보스턴.columns)\n",
    "print(아이리스.columns)\n",
    " \n",
    " \n",
    "###########################\n",
    "# 독립변수와 종속변수 분리\n",
    "독립 = 레모네이드[['온도']]\n",
    "종속 = 레모네이드[['판매량']]\n",
    "print(독립.shape, 종속.shape)\n",
    " \n",
    "독립 = 보스턴[['crim', 'zn', 'indus', 'chas', 'nox', \n",
    "            'rm', 'age', 'dis', 'rad', 'tax',\n",
    "            'ptratio', 'b', 'lstat']]\n",
    "종속 = 보스턴[['medv']]\n",
    "print(독립.shape, 종속.shape)\n",
    " \n",
    "독립 = 아이리스[['꽃잎길이', '꽃잎폭', '꽃받침길이', '꽃받침폭']]\n",
    "종속 = 아이리스[['품종']]\n",
    "print(독립.shape, 종속.shape)\n",
    " \n",
    " \n",
    "###########################\n",
    "# 각각의 데이터 확인해보기\n",
    "print(레모네이드.head())\n",
    "print(보스턴.head())\n",
    "print(아이리스.head())"
   ]
  },
  {
   "cell_type": "code",
   "execution_count": 3,
   "metadata": {},
   "outputs": [],
   "source": [
    "import tensorflow as tf"
   ]
  },
  {
   "cell_type": "code",
   "execution_count": null,
   "metadata": {},
   "outputs": [],
   "source": [
    "# 회귀와 분류를 나누는 기준은 종속 변수의 데이터 타입\n",
    "# 종속 변수가 양적 데이터인 경우 회귀\n",
    "# 종속 변수가 범주형 데이터인 경우 분류"
   ]
  },
  {
   "cell_type": "code",
   "execution_count": 7,
   "metadata": {},
   "outputs": [
    {
     "name": "stdout",
     "output_type": "stream",
     "text": [
      "(6, 1) (6, 1)\n",
      "Epoch 1/10\n",
      "1/1 [==============================] - 0s 1ms/step - loss: 134.9176\n",
      "Epoch 2/10\n",
      "1/1 [==============================] - 0s 1ms/step - loss: 134.3805\n",
      "Epoch 3/10\n",
      "1/1 [==============================] - 0s 1ms/step - loss: 133.8445\n",
      "Epoch 4/10\n",
      "1/1 [==============================] - 0s 2ms/step - loss: 133.3096\n",
      "Epoch 5/10\n",
      "1/1 [==============================] - 0s 1ms/step - loss: 132.7759\n",
      "Epoch 6/10\n",
      "1/1 [==============================] - 0s 3ms/step - loss: 132.2432\n",
      "Epoch 7/10\n",
      "1/1 [==============================] - 0s 1ms/step - loss: 131.7116\n",
      "Epoch 8/10\n",
      "1/1 [==============================] - 0s 2ms/step - loss: 131.1810\n",
      "Epoch 9/10\n",
      "1/1 [==============================] - 0s 4ms/step - loss: 130.6516\n",
      "Epoch 10/10\n",
      "1/1 [==============================] - 0s 1ms/step - loss: 130.1232\n"
     ]
    },
    {
     "data": {
      "text/plain": [
       "<tensorflow.python.keras.callbacks.History at 0x22122adfc10>"
      ]
     },
     "execution_count": 7,
     "metadata": {},
     "output_type": "execute_result"
    }
   ],
   "source": [
    "# 회귀 모델\n",
    "\n",
    "레모네이드_독립 = 레모네이드[['온도']]\n",
    "레모네이드_종속 = 레모네이드[['판매량']]\n",
    "print(레모네이드_독립.shape, 레모네이드_종속.shape)\n",
    "\n",
    "X = tf.keras.layers.Input(shape=[1])\n",
    "Y = tf.keras.layers.Dense(1)(X)\n",
    "model = tf.keras.models.Model(X, Y)\n",
    "model.compile(loss='mse')\n",
    "\n",
    "model.fit(레모네이드_독립, 레모네이드_종속, epochs=1000, verbose=0)\n",
    "model.fit(레모네이드_독립, 레모네이드_종속, epochs=10)"
   ]
  },
  {
   "cell_type": "code",
   "execution_count": 11,
   "metadata": {},
   "outputs": [
    {
     "name": "stdout",
     "output_type": "stream",
     "text": [
      "Epoch 1/10\n",
      "1/1 [==============================] - 0s 1ms/step - loss: 0.0018\n",
      "Epoch 2/10\n",
      "1/1 [==============================] - 0s 2ms/step - loss: 0.0018\n",
      "Epoch 3/10\n",
      "1/1 [==============================] - 0s 1ms/step - loss: 0.0018\n",
      "Epoch 4/10\n",
      "1/1 [==============================] - 0s 1ms/step - loss: 0.0018\n",
      "Epoch 5/10\n",
      "1/1 [==============================] - 0s 3ms/step - loss: 0.0018\n",
      "Epoch 6/10\n",
      "1/1 [==============================] - 0s 2ms/step - loss: 0.0018\n",
      "Epoch 7/10\n",
      "1/1 [==============================] - 0s 1ms/step - loss: 0.0018\n",
      "Epoch 8/10\n",
      "1/1 [==============================] - 0s 1ms/step - loss: 0.0018\n",
      "Epoch 9/10\n",
      "1/1 [==============================] - 0s 1ms/step - loss: 0.0018\n",
      "Epoch 10/10\n",
      "1/1 [==============================] - 0s 1ms/step - loss: 0.0018\n"
     ]
    },
    {
     "data": {
      "text/plain": [
       "array([[30.190197]], dtype=float32)"
      ]
     },
     "execution_count": 11,
     "metadata": {},
     "output_type": "execute_result"
    }
   ],
   "source": [
    "model.fit(레모네이드_독립, 레모네이드_종속, epochs=10000, verbose=0)\n",
    "model.fit(레모네이드_독립, 레모네이드_종속, epochs=10)"
   ]
  },
  {
   "cell_type": "code",
   "execution_count": 12,
   "metadata": {},
   "outputs": [
    {
     "data": {
      "text/plain": [
       "array([[30.190197]], dtype=float32)"
      ]
     },
     "execution_count": 12,
     "metadata": {},
     "output_type": "execute_result"
    }
   ],
   "source": [
    "model.predict(레모네이드_독립)\n",
    "model.predict([15])"
   ]
  },
  {
   "cell_type": "code",
   "execution_count": 13,
   "metadata": {},
   "outputs": [
    {
     "name": "stdout",
     "output_type": "stream",
     "text": [
      "(506, 13) (506, 1)\n"
     ]
    }
   ],
   "source": [
    "보스턴_독립 = 보스턴[['crim', 'zn', 'indus', 'chas', 'nox', \n",
    "            'rm', 'age', 'dis', 'rad', 'tax',\n",
    "            'ptratio', 'b', 'lstat']]\n",
    "보스턴_종속 = 보스턴[['medv']]\n",
    "print(보스턴_독립.shape, 보스턴_종속.shape)"
   ]
  },
  {
   "cell_type": "code",
   "execution_count": 14,
   "metadata": {},
   "outputs": [],
   "source": [
    "X = tf.keras.layers.Input(shape=[13])\n",
    "Y = tf.keras.layers.Dense(1)(X)\n",
    "model = tf.keras.models.Model(X, Y)\n",
    "model.compile(loss='mse')"
   ]
  },
  {
   "cell_type": "code",
   "execution_count": 19,
   "metadata": {
    "scrolled": true
   },
   "outputs": [
    {
     "name": "stdout",
     "output_type": "stream",
     "text": [
      "Epoch 1/10\n",
      " 1/16 [>.............................] - ETA: 0s - loss: 11.1983WARNING:tensorflow:Callbacks method `on_train_batch_end` is slow compared to the batch time (batch time: 0.0000s vs `on_train_batch_end` time: 0.0010s). Check your callbacks.\n",
      "16/16 [==============================] - 0s 1ms/step - loss: 23.6289\n",
      "Epoch 2/10\n",
      "16/16 [==============================] - 0s 844us/step - loss: 23.4601\n",
      "Epoch 3/10\n",
      "16/16 [==============================] - 0s 690us/step - loss: 23.2962\n",
      "Epoch 4/10\n",
      "16/16 [==============================] - 0s 564us/step - loss: 24.1951\n",
      "Epoch 5/10\n",
      "16/16 [==============================] - 0s 690us/step - loss: 23.9203\n",
      "Epoch 6/10\n",
      "16/16 [==============================] - 0s 1ms/step - loss: 23.7203\n",
      "Epoch 7/10\n",
      "16/16 [==============================] - 0s 690us/step - loss: 24.0803\n",
      "Epoch 8/10\n",
      "16/16 [==============================] - 0s 564us/step - loss: 23.3775\n",
      "Epoch 9/10\n",
      "16/16 [==============================] - 0s 690us/step - loss: 24.0721\n",
      "Epoch 10/10\n",
      "16/16 [==============================] - 0s 690us/step - loss: 23.5578\n"
     ]
    },
    {
     "data": {
      "text/plain": [
       "<tensorflow.python.keras.callbacks.History at 0x221235765e0>"
      ]
     },
     "execution_count": 19,
     "metadata": {},
     "output_type": "execute_result"
    }
   ],
   "source": [
    "model.fit(보스턴_독립, 보스턴_종속, epochs=1000, verbose=0)\n",
    "model.fit(보스턴_독립, 보스턴_종속, epochs=10)"
   ]
  },
  {
   "cell_type": "code",
   "execution_count": 24,
   "metadata": {},
   "outputs": [
    {
     "name": "stdout",
     "output_type": "stream",
     "text": [
      "[[29.6256  ]\n",
      " [24.542263]\n",
      " [30.973005]\n",
      " [29.51471 ]\n",
      " [29.123993]]\n",
      "   medv\n",
      "0  24.0\n",
      "1  21.6\n",
      "2  34.7\n",
      "3  33.4\n",
      "4  36.2\n"
     ]
    }
   ],
   "source": [
    "print(model.predict(보스턴_독립[0:5]))\n",
    "print(보스턴_종속[0:5])"
   ]
  },
  {
   "cell_type": "code",
   "execution_count": 23,
   "metadata": {},
   "outputs": [
    {
     "data": {
      "text/plain": [
       "[array([[-0.09753413],\n",
       "        [ 0.04887441],\n",
       "        [-0.01571391],\n",
       "        [ 2.636688  ],\n",
       "        [-3.979567  ],\n",
       "        [ 5.1675158 ],\n",
       "        [-0.00862956],\n",
       "        [-1.1007258 ],\n",
       "        [ 0.20841272],\n",
       "        [-0.01109212],\n",
       "        [-0.55604434],\n",
       "        [ 0.01298231],\n",
       "        [-0.46614277]], dtype=float32),\n",
       " array([10.763033], dtype=float32)]"
      ]
     },
     "execution_count": 23,
     "metadata": {},
     "output_type": "execute_result"
    }
   ],
   "source": [
    "model.get_weights()"
   ]
  },
  {
   "cell_type": "code",
   "execution_count": 31,
   "metadata": {},
   "outputs": [
    {
     "data": {
      "text/html": [
       "<div>\n",
       "<style scoped>\n",
       "    .dataframe tbody tr th:only-of-type {\n",
       "        vertical-align: middle;\n",
       "    }\n",
       "\n",
       "    .dataframe tbody tr th {\n",
       "        vertical-align: top;\n",
       "    }\n",
       "\n",
       "    .dataframe thead th {\n",
       "        text-align: right;\n",
       "    }\n",
       "</style>\n",
       "<table border=\"1\" class=\"dataframe\">\n",
       "  <thead>\n",
       "    <tr style=\"text-align: right;\">\n",
       "      <th></th>\n",
       "      <th>꽃잎길이</th>\n",
       "      <th>꽃잎폭</th>\n",
       "      <th>꽃받침길이</th>\n",
       "      <th>꽃받침폭</th>\n",
       "      <th>품종_setosa</th>\n",
       "      <th>품종_versicolor</th>\n",
       "      <th>품종_virginica</th>\n",
       "    </tr>\n",
       "  </thead>\n",
       "  <tbody>\n",
       "    <tr>\n",
       "      <th>0</th>\n",
       "      <td>5.1</td>\n",
       "      <td>3.5</td>\n",
       "      <td>1.4</td>\n",
       "      <td>0.2</td>\n",
       "      <td>1</td>\n",
       "      <td>0</td>\n",
       "      <td>0</td>\n",
       "    </tr>\n",
       "    <tr>\n",
       "      <th>1</th>\n",
       "      <td>4.9</td>\n",
       "      <td>3.0</td>\n",
       "      <td>1.4</td>\n",
       "      <td>0.2</td>\n",
       "      <td>1</td>\n",
       "      <td>0</td>\n",
       "      <td>0</td>\n",
       "    </tr>\n",
       "    <tr>\n",
       "      <th>2</th>\n",
       "      <td>4.7</td>\n",
       "      <td>3.2</td>\n",
       "      <td>1.3</td>\n",
       "      <td>0.2</td>\n",
       "      <td>1</td>\n",
       "      <td>0</td>\n",
       "      <td>0</td>\n",
       "    </tr>\n",
       "    <tr>\n",
       "      <th>3</th>\n",
       "      <td>4.6</td>\n",
       "      <td>3.1</td>\n",
       "      <td>1.5</td>\n",
       "      <td>0.2</td>\n",
       "      <td>1</td>\n",
       "      <td>0</td>\n",
       "      <td>0</td>\n",
       "    </tr>\n",
       "    <tr>\n",
       "      <th>4</th>\n",
       "      <td>5.0</td>\n",
       "      <td>3.6</td>\n",
       "      <td>1.4</td>\n",
       "      <td>0.2</td>\n",
       "      <td>1</td>\n",
       "      <td>0</td>\n",
       "      <td>0</td>\n",
       "    </tr>\n",
       "  </tbody>\n",
       "</table>\n",
       "</div>"
      ],
      "text/plain": [
       "   꽃잎길이  꽃잎폭  꽃받침길이  꽃받침폭  품종_setosa  품종_versicolor  품종_virginica\n",
       "0   5.1  3.5    1.4   0.2          1              0             0\n",
       "1   4.9  3.0    1.4   0.2          1              0             0\n",
       "2   4.7  3.2    1.3   0.2          1              0             0\n",
       "3   4.6  3.1    1.5   0.2          1              0             0\n",
       "4   5.0  3.6    1.4   0.2          1              0             0"
      ]
     },
     "execution_count": 31,
     "metadata": {},
     "output_type": "execute_result"
    }
   ],
   "source": [
    "# 범주형 분류 모델\n",
    "아이리스 = pd.read_csv(파일경로)\n",
    "아이리스 = pd.get_dummies(아이리스) #원핫인코딩 -> 범주형 데이터 변수들만 전부 원핫인코딩 된 결과로 바꿔줌\n",
    "아이리스.head()"
   ]
  },
  {
   "cell_type": "code",
   "execution_count": 32,
   "metadata": {},
   "outputs": [
    {
     "name": "stdout",
     "output_type": "stream",
     "text": [
      "(150, 4) (150, 3)\n"
     ]
    }
   ],
   "source": [
    "아이리스_독립 = 아이리스[['꽃잎길이', '꽃잎폭', '꽃받침길이', '꽃받침폭']]\n",
    "아이리스_종속 = 아이리스[['품종_setosa','품종_versicolor', '품종_virginica']]\n",
    "print(아이리스_독립.shape, 아이리스_종속.shape)"
   ]
  },
  {
   "cell_type": "code",
   "execution_count": 44,
   "metadata": {},
   "outputs": [],
   "source": [
    "X = tf.keras.layers.Input(shape=[4])\n",
    "Y = tf.keras.layers.Dense(3, activation='softmax')(X) #Sigmoid, Softmax 차이는??\n",
    "model = tf.keras.models.Model(X, Y)\n",
    "model.compile(loss='categorical_crossentropy', metrics='accuracy')"
   ]
  },
  {
   "cell_type": "code",
   "execution_count": 45,
   "metadata": {},
   "outputs": [
    {
     "name": "stdout",
     "output_type": "stream",
     "text": [
      "Epoch 1/10\n",
      "5/5 [==============================] - 0s 1ms/step - loss: 0.1578 - accuracy: 0.9733\n",
      "Epoch 2/10\n",
      "5/5 [==============================] - 0s 1ms/step - loss: 0.1574 - accuracy: 0.9733\n",
      "Epoch 3/10\n",
      "5/5 [==============================] - 0s 1ms/step - loss: 0.1570 - accuracy: 0.9800\n",
      "Epoch 4/10\n",
      "5/5 [==============================] - 0s 803us/step - loss: 0.1574 - accuracy: 0.9800\n",
      "Epoch 5/10\n",
      "5/5 [==============================] - 0s 1ms/step - loss: 0.1567 - accuracy: 0.9733\n",
      "Epoch 6/10\n",
      "5/5 [==============================] - 0s 1ms/step - loss: 0.1569 - accuracy: 0.9800\n",
      "Epoch 7/10\n",
      "5/5 [==============================] - 0s 1ms/step - loss: 0.1566 - accuracy: 0.9733\n",
      "Epoch 8/10\n",
      "5/5 [==============================] - 0s 1ms/step - loss: 0.1563 - accuracy: 0.9800\n",
      "Epoch 9/10\n",
      "5/5 [==============================] - 0s 1ms/step - loss: 0.1567 - accuracy: 0.9800\n",
      "Epoch 10/10\n",
      "5/5 [==============================] - 0s 1ms/step - loss: 0.1563 - accuracy: 0.9800\n"
     ]
    },
    {
     "data": {
      "text/plain": [
       "<tensorflow.python.keras.callbacks.History at 0x221271dad90>"
      ]
     },
     "execution_count": 45,
     "metadata": {},
     "output_type": "execute_result"
    }
   ],
   "source": [
    "model.fit(아이리스_독립, 아이리스_종속,  epochs=1000, verbose=0)\n",
    "model.fit(아이리스_독립, 아이리스_종속,  epochs=10)"
   ]
  },
  {
   "cell_type": "code",
   "execution_count": 48,
   "metadata": {},
   "outputs": [
    {
     "name": "stdout",
     "output_type": "stream",
     "text": [
      "WARNING:tensorflow:5 out of the last 10 calls to <function Model.make_predict_function.<locals>.predict_function at 0x00000221252793A0> triggered tf.function retracing. Tracing is expensive and the excessive number of tracings could be due to (1) creating @tf.function repeatedly in a loop, (2) passing tensors with different shapes, (3) passing Python objects instead of tensors. For (1), please define your @tf.function outside of the loop. For (2), @tf.function has experimental_relax_shapes=True option that relaxes argument shapes that can avoid unnecessary retracing. For (3), please refer to https://www.tensorflow.org/tutorials/customization/performance#python_or_tensor_args and https://www.tensorflow.org/api_docs/python/tf/function for  more details.\n"
     ]
    },
    {
     "data": {
      "text/plain": [
       "array([[1.5406716e-06, 1.3597828e-01, 8.6402023e-01],\n",
       "       [2.8470263e-06, 2.3161831e-01, 7.6837879e-01],\n",
       "       [6.0172188e-06, 2.3764206e-01, 7.6235193e-01],\n",
       "       [1.6698392e-06, 7.5319849e-02, 9.2467844e-01],\n",
       "       [1.3757472e-05, 2.3859760e-01, 7.6138860e-01]], dtype=float32)"
      ]
     },
     "execution_count": 48,
     "metadata": {},
     "output_type": "execute_result"
    }
   ],
   "source": [
    "model.predict(아이리스_독립[-5:])"
   ]
  },
  {
   "cell_type": "code",
   "execution_count": 49,
   "metadata": {},
   "outputs": [
    {
     "data": {
      "text/html": [
       "<div>\n",
       "<style scoped>\n",
       "    .dataframe tbody tr th:only-of-type {\n",
       "        vertical-align: middle;\n",
       "    }\n",
       "\n",
       "    .dataframe tbody tr th {\n",
       "        vertical-align: top;\n",
       "    }\n",
       "\n",
       "    .dataframe thead th {\n",
       "        text-align: right;\n",
       "    }\n",
       "</style>\n",
       "<table border=\"1\" class=\"dataframe\">\n",
       "  <thead>\n",
       "    <tr style=\"text-align: right;\">\n",
       "      <th></th>\n",
       "      <th>품종_setosa</th>\n",
       "      <th>품종_versicolor</th>\n",
       "      <th>품종_virginica</th>\n",
       "    </tr>\n",
       "  </thead>\n",
       "  <tbody>\n",
       "    <tr>\n",
       "      <th>145</th>\n",
       "      <td>0</td>\n",
       "      <td>0</td>\n",
       "      <td>1</td>\n",
       "    </tr>\n",
       "    <tr>\n",
       "      <th>146</th>\n",
       "      <td>0</td>\n",
       "      <td>0</td>\n",
       "      <td>1</td>\n",
       "    </tr>\n",
       "    <tr>\n",
       "      <th>147</th>\n",
       "      <td>0</td>\n",
       "      <td>0</td>\n",
       "      <td>1</td>\n",
       "    </tr>\n",
       "    <tr>\n",
       "      <th>148</th>\n",
       "      <td>0</td>\n",
       "      <td>0</td>\n",
       "      <td>1</td>\n",
       "    </tr>\n",
       "    <tr>\n",
       "      <th>149</th>\n",
       "      <td>0</td>\n",
       "      <td>0</td>\n",
       "      <td>1</td>\n",
       "    </tr>\n",
       "  </tbody>\n",
       "</table>\n",
       "</div>"
      ],
      "text/plain": [
       "     품종_setosa  품종_versicolor  품종_virginica\n",
       "145          0              0             1\n",
       "146          0              0             1\n",
       "147          0              0             1\n",
       "148          0              0             1\n",
       "149          0              0             1"
      ]
     },
     "execution_count": 49,
     "metadata": {},
     "output_type": "execute_result"
    }
   ],
   "source": [
    "아이리스_종속[-5:]"
   ]
  },
  {
   "cell_type": "code",
   "execution_count": 51,
   "metadata": {},
   "outputs": [
    {
     "data": {
      "text/plain": [
       "[array([[ 1.0781492 ,  1.0698626 , -0.25094453],\n",
       "        [ 3.0304344 , -0.11168361, -0.946266  ],\n",
       "        [-3.3051898 , -0.3979685 ,  1.2621813 ],\n",
       "        [-3.6524105 , -0.9664361 ,  2.192296  ]], dtype=float32),\n",
       " array([ 1.6654793,  1.2400923, -1.4555138], dtype=float32)]"
      ]
     },
     "execution_count": 51,
     "metadata": {},
     "output_type": "execute_result"
    }
   ],
   "source": [
    "model.get_weights()"
   ]
  },
  {
   "cell_type": "markdown",
   "metadata": {},
   "source": [
    "# 히든레이어"
   ]
  },
  {
   "cell_type": "code",
   "execution_count": 70,
   "metadata": {},
   "outputs": [
    {
     "name": "stdout",
     "output_type": "stream",
     "text": [
      "(506, 13) (506, 1)\n"
     ]
    }
   ],
   "source": [
    "보스턴_독립 = 보스턴[['crim', 'zn', 'indus', 'chas', 'nox', \n",
    "            'rm', 'age', 'dis', 'rad', 'tax',\n",
    "            'ptratio', 'b', 'lstat']]\n",
    "보스턴_종속 = 보스턴[['medv']]\n",
    "print(보스턴_독립.shape, 보스턴_종속.shape)"
   ]
  },
  {
   "cell_type": "code",
   "execution_count": 71,
   "metadata": {},
   "outputs": [],
   "source": [
    "X = tf.keras.layers.Input(shape=[13])\n",
    "H = tf.keras.layers.Dense(10, activation='swish')(X)\n",
    "H = tf.keras.layers.Dense(5, activation='swish')(H)\n",
    "H = tf.keras.layers.Dense(3, activation='swish')(H)\n",
    "Y = tf.keras.layers.Dense(1)(H)\n",
    "model = tf.keras.models.Model(X, Y)\n",
    "model.compile(loss='mse')"
   ]
  },
  {
   "cell_type": "code",
   "execution_count": 72,
   "metadata": {
    "scrolled": true
   },
   "outputs": [
    {
     "name": "stdout",
     "output_type": "stream",
     "text": [
      "Epoch 1/10\n",
      "16/16 [==============================] - 0s 1ms/step - loss: 13.8312\n",
      "Epoch 2/10\n",
      "16/16 [==============================] - 0s 878us/step - loss: 13.6428\n",
      "Epoch 3/10\n",
      "16/16 [==============================] - 0s 815us/step - loss: 13.9941\n",
      "Epoch 4/10\n",
      "16/16 [==============================] - 0s 941us/step - loss: 13.1019\n",
      "Epoch 5/10\n",
      "16/16 [==============================] - 0s 752us/step - loss: 13.9294\n",
      "Epoch 6/10\n",
      "16/16 [==============================] - 0s 752us/step - loss: 13.9575\n",
      "Epoch 7/10\n",
      "16/16 [==============================] - 0s 815us/step - loss: 14.3335\n",
      "Epoch 8/10\n",
      "16/16 [==============================] - 0s 752us/step - loss: 15.4588\n",
      "Epoch 9/10\n",
      "16/16 [==============================] - 0s 878us/step - loss: 13.4294\n",
      "Epoch 10/10\n",
      "16/16 [==============================] - 0s 815us/step - loss: 13.9639\n"
     ]
    },
    {
     "data": {
      "text/plain": [
       "<tensorflow.python.keras.callbacks.History at 0x2212c0f7970>"
      ]
     },
     "execution_count": 72,
     "metadata": {},
     "output_type": "execute_result"
    }
   ],
   "source": [
    "model.fit(보스턴_독립, 보스턴_종속, epochs=1000, verbose=0)\n",
    "model.fit(보스턴_독립, 보스턴_종속, epochs=10)"
   ]
  },
  {
   "cell_type": "code",
   "execution_count": 73,
   "metadata": {},
   "outputs": [
    {
     "name": "stdout",
     "output_type": "stream",
     "text": [
      "Model: \"functional_25\"\n",
      "_________________________________________________________________\n",
      "Layer (type)                 Output Shape              Param #   \n",
      "=================================================================\n",
      "input_13 (InputLayer)        [(None, 13)]              0         \n",
      "_________________________________________________________________\n",
      "dense_22 (Dense)             (None, 10)                140       \n",
      "_________________________________________________________________\n",
      "dense_23 (Dense)             (None, 5)                 55        \n",
      "_________________________________________________________________\n",
      "dense_24 (Dense)             (None, 3)                 18        \n",
      "_________________________________________________________________\n",
      "dense_25 (Dense)             (None, 1)                 4         \n",
      "=================================================================\n",
      "Total params: 217\n",
      "Trainable params: 217\n",
      "Non-trainable params: 0\n",
      "_________________________________________________________________\n"
     ]
    }
   ],
   "source": [
    "#모델 구조 확인\n",
    "model.summary()"
   ]
  },
  {
   "cell_type": "code",
   "execution_count": 76,
   "metadata": {},
   "outputs": [
    {
     "name": "stdout",
     "output_type": "stream",
     "text": [
      "[[32.206196]\n",
      " [26.14944 ]\n",
      " [33.730877]\n",
      " [32.837086]\n",
      " [31.909294]]\n",
      "   medv\n",
      "0  24.0\n",
      "1  21.6\n",
      "2  34.7\n",
      "3  33.4\n",
      "4  36.2\n"
     ]
    }
   ],
   "source": [
    "print(model.predict(보스턴_독립[:5]))\n",
    "print(보스턴_종속[:5])"
   ]
  },
  {
   "cell_type": "code",
   "execution_count": 84,
   "metadata": {},
   "outputs": [
    {
     "data": {
      "text/plain": [
       "[array([[ 0.03591019, -0.11223198, -0.3453029 ,  0.5950478 , -0.2755047 ,\n",
       "          0.74850816, -0.3127052 , -0.33373657, -0.01024955,  0.2874885 ],\n",
       "        [-0.36273286,  0.77487326,  0.41843784,  0.41367158,  0.01253781,\n",
       "         -0.33213642, -0.28715408,  0.8361188 , -0.23051511, -0.23364155],\n",
       "        [ 0.7138604 , -0.49930775, -0.337704  , -0.5433954 , -0.19126257,\n",
       "         -0.34328806, -0.04715502,  0.5904222 , -0.209585  ,  0.5488286 ],\n",
       "        [ 0.19454071,  0.1487008 , -0.23577961, -0.67338526, -0.14375766,\n",
       "         -0.9998876 ,  0.23974462,  0.42853686, -0.6264509 ,  0.11268824]],\n",
       "       dtype=float32),\n",
       " array([-0.11939371,  0.43554512,  0.48124787,  0.43209288,  0.45464292,\n",
       "         0.4027073 ,  0.23608279,  0.0530416 ,  0.38919544, -0.21430694],\n",
       "       dtype=float32),\n",
       " array([[ 0.37428683,  0.9457434 , -0.54128355, -0.7826159 ,  0.599238  ],\n",
       "        [-0.78681624,  0.42284575,  0.58895063,  0.6041503 , -0.28445446],\n",
       "        [ 0.41013476,  0.09621978, -1.5162041 , -1.0172613 , -0.5195324 ],\n",
       "        [-0.17467478, -0.17988361,  0.98894846,  1.0369272 ,  0.30218953],\n",
       "        [ 0.82832986,  0.22889313, -0.4960097 , -0.7275297 , -0.63409865],\n",
       "        [-1.0323136 , -0.2911313 ,  0.88850486,  0.13331008, -0.46689963],\n",
       "        [ 0.63040894, -0.07411563, -1.0567809 ,  0.06624011,  0.2502364 ],\n",
       "        [ 0.19246016,  0.7717333 , -0.24372809,  0.5260037 , -0.2009171 ],\n",
       "        [ 0.8415821 ,  0.12285241, -0.2550706 , -1.0937443 , -0.99258816],\n",
       "        [ 0.57048124,  0.9578729 ,  0.5220577 , -0.40496337, -0.31442544]],\n",
       "       dtype=float32),\n",
       " array([-0.2540622 ,  0.03630294,  0.2806725 ,  0.4182015 ,  0.270256  ],\n",
       "       dtype=float32),\n",
       " array([[ 1.0302273 , -0.2719158 , -0.38468933],\n",
       "        [ 0.57409835, -0.43048948,  0.35438558],\n",
       "        [-1.1645671 ,  0.13779138,  0.60646784],\n",
       "        [-1.5859056 ,  0.8881198 ,  0.56509525],\n",
       "        [-1.0680724 , -0.59447956, -0.65450615]], dtype=float32),\n",
       " array([-0.00704219,  0.22037749,  0.6726857 ], dtype=float32),\n",
       " array([[-1.4733772 ,  0.08544986,  1.4830022 ],\n",
       "        [ 3.746188  , -2.1457682 , -0.08230525],\n",
       "        [-1.3897995 ,  0.6192937 , -0.38987187]], dtype=float32),\n",
       " array([-1.6991636,  0.6035092, -0.5832674], dtype=float32)]"
      ]
     },
     "execution_count": 84,
     "metadata": {},
     "output_type": "execute_result"
    }
   ],
   "source": [
    "#모델 수식 확인\n",
    "model.get_weights()"
   ]
  },
  {
   "cell_type": "code",
   "execution_count": 77,
   "metadata": {},
   "outputs": [
    {
     "data": {
      "text/html": [
       "<div>\n",
       "<style scoped>\n",
       "    .dataframe tbody tr th:only-of-type {\n",
       "        vertical-align: middle;\n",
       "    }\n",
       "\n",
       "    .dataframe tbody tr th {\n",
       "        vertical-align: top;\n",
       "    }\n",
       "\n",
       "    .dataframe thead th {\n",
       "        text-align: right;\n",
       "    }\n",
       "</style>\n",
       "<table border=\"1\" class=\"dataframe\">\n",
       "  <thead>\n",
       "    <tr style=\"text-align: right;\">\n",
       "      <th></th>\n",
       "      <th>꽃잎길이</th>\n",
       "      <th>꽃잎폭</th>\n",
       "      <th>꽃받침길이</th>\n",
       "      <th>꽃받침폭</th>\n",
       "      <th>품종_setosa</th>\n",
       "      <th>품종_versicolor</th>\n",
       "      <th>품종_virginica</th>\n",
       "    </tr>\n",
       "  </thead>\n",
       "  <tbody>\n",
       "    <tr>\n",
       "      <th>0</th>\n",
       "      <td>5.1</td>\n",
       "      <td>3.5</td>\n",
       "      <td>1.4</td>\n",
       "      <td>0.2</td>\n",
       "      <td>1</td>\n",
       "      <td>0</td>\n",
       "      <td>0</td>\n",
       "    </tr>\n",
       "    <tr>\n",
       "      <th>1</th>\n",
       "      <td>4.9</td>\n",
       "      <td>3.0</td>\n",
       "      <td>1.4</td>\n",
       "      <td>0.2</td>\n",
       "      <td>1</td>\n",
       "      <td>0</td>\n",
       "      <td>0</td>\n",
       "    </tr>\n",
       "    <tr>\n",
       "      <th>2</th>\n",
       "      <td>4.7</td>\n",
       "      <td>3.2</td>\n",
       "      <td>1.3</td>\n",
       "      <td>0.2</td>\n",
       "      <td>1</td>\n",
       "      <td>0</td>\n",
       "      <td>0</td>\n",
       "    </tr>\n",
       "    <tr>\n",
       "      <th>3</th>\n",
       "      <td>4.6</td>\n",
       "      <td>3.1</td>\n",
       "      <td>1.5</td>\n",
       "      <td>0.2</td>\n",
       "      <td>1</td>\n",
       "      <td>0</td>\n",
       "      <td>0</td>\n",
       "    </tr>\n",
       "    <tr>\n",
       "      <th>4</th>\n",
       "      <td>5.0</td>\n",
       "      <td>3.6</td>\n",
       "      <td>1.4</td>\n",
       "      <td>0.2</td>\n",
       "      <td>1</td>\n",
       "      <td>0</td>\n",
       "      <td>0</td>\n",
       "    </tr>\n",
       "  </tbody>\n",
       "</table>\n",
       "</div>"
      ],
      "text/plain": [
       "   꽃잎길이  꽃잎폭  꽃받침길이  꽃받침폭  품종_setosa  품종_versicolor  품종_virginica\n",
       "0   5.1  3.5    1.4   0.2          1              0             0\n",
       "1   4.9  3.0    1.4   0.2          1              0             0\n",
       "2   4.7  3.2    1.3   0.2          1              0             0\n",
       "3   4.6  3.1    1.5   0.2          1              0             0\n",
       "4   5.0  3.6    1.4   0.2          1              0             0"
      ]
     },
     "execution_count": 77,
     "metadata": {},
     "output_type": "execute_result"
    }
   ],
   "source": [
    "아이리스 = pd.read_csv(파일경로)\n",
    "아이리스 = pd.get_dummies(아이리스) #원핫인코딩 -> 범주형 데이터 변수들만 전부 원핫인코딩 된 결과로 바꿔줌\n",
    "아이리스.head()"
   ]
  },
  {
   "cell_type": "code",
   "execution_count": 80,
   "metadata": {},
   "outputs": [],
   "source": [
    "X = tf.keras.layers.Input(shape=[4])\n",
    "H = tf.keras.layers.Dense(10, activation='swish')(X)\n",
    "H = tf.keras.layers.Dense(5, activation='swish')(H)\n",
    "H = tf.keras.layers.Dense(3, activation='swish')(H)\n",
    "Y = tf.keras.layers.Dense(3, activation='softmax')(H) #Sigmoid, Softmax 차이는??\n",
    "model = tf.keras.models.Model(X, Y)\n",
    "model.compile(loss='categorical_crossentropy', metrics='accuracy')"
   ]
  },
  {
   "cell_type": "code",
   "execution_count": 91,
   "metadata": {},
   "outputs": [
    {
     "name": "stdout",
     "output_type": "stream",
     "text": [
      "(150, 4) (150, 3)\n"
     ]
    }
   ],
   "source": [
    "아이리스_독립 = 아이리스[['꽃잎길이', '꽃잎폭', '꽃받침길이', '꽃받침폭']]\n",
    "아이리스_종속 = 아이리스[['품종_setosa','품종_versicolor', '품종_virginica']]\n",
    "print(아이리스_독립.shape, 아이리스_종속.shape)"
   ]
  },
  {
   "cell_type": "code",
   "execution_count": 92,
   "metadata": {
    "scrolled": true
   },
   "outputs": [
    {
     "name": "stdout",
     "output_type": "stream",
     "text": [
      "Epoch 1/10\n",
      "5/5 [==============================] - 0s 1ms/step - loss: 0.0483 - accuracy: 0.9867\n",
      "Epoch 2/10\n",
      "5/5 [==============================] - 0s 1ms/step - loss: 0.0616 - accuracy: 0.9867\n",
      "Epoch 3/10\n",
      "5/5 [==============================] - 0s 1ms/step - loss: 0.0453 - accuracy: 0.9867\n",
      "Epoch 4/10\n",
      "5/5 [==============================] - 0s 1ms/step - loss: 0.0348 - accuracy: 0.9933\n",
      "Epoch 5/10\n",
      "5/5 [==============================] - 0s 1ms/step - loss: 0.0378 - accuracy: 0.9933\n",
      "Epoch 6/10\n",
      "5/5 [==============================] - 0s 1ms/step - loss: 0.0453 - accuracy: 0.9867\n",
      "Epoch 7/10\n",
      "5/5 [==============================] - 0s 1ms/step - loss: 0.0623 - accuracy: 0.9800\n",
      "Epoch 8/10\n",
      "5/5 [==============================] - 0s 1ms/step - loss: 0.0778 - accuracy: 0.9733\n",
      "Epoch 9/10\n",
      "5/5 [==============================] - 0s 2ms/step - loss: 0.1043 - accuracy: 0.9600\n",
      "Epoch 10/10\n",
      "5/5 [==============================] - 0s 1ms/step - loss: 0.0590 - accuracy: 0.9733\n"
     ]
    },
    {
     "data": {
      "text/plain": [
       "<tensorflow.python.keras.callbacks.History at 0x221305d19d0>"
      ]
     },
     "execution_count": 92,
     "metadata": {},
     "output_type": "execute_result"
    }
   ],
   "source": [
    "model.fit(아이리스_독립, 아이리스_종속,  epochs=1000, verbose=0)\n",
    "model.fit(아이리스_독립, 아이리스_종속,  epochs=10)"
   ]
  },
  {
   "cell_type": "code",
   "execution_count": 83,
   "metadata": {
    "scrolled": true
   },
   "outputs": [
    {
     "name": "stdout",
     "output_type": "stream",
     "text": [
      "[[9.9999988e-01 3.5038670e-09 1.0268629e-07]\n",
      " [9.9999928e-01 4.4586383e-08 6.9424584e-07]\n",
      " [9.9999964e-01 1.5774445e-08 3.4352962e-07]\n",
      " [9.9999809e-01 1.5928396e-07 1.7368917e-06]\n",
      " [9.9999988e-01 3.2511709e-09 9.7598402e-08]]\n",
      "   품종_setosa  품종_versicolor  품종_virginica\n",
      "0          1              0             0\n",
      "1          1              0             0\n",
      "2          1              0             0\n",
      "3          1              0             0\n",
      "4          1              0             0\n"
     ]
    }
   ],
   "source": [
    "print(model.predict(아이리스_독립[:5]))\n",
    "print(아이리스_종속[:5])"
   ]
  },
  {
   "cell_type": "markdown",
   "metadata": {},
   "source": [
    "# 학습이 잘 되는 모델\n",
    "\n",
    "- 사용할 레이어\n",
    " - tf.keras.layers.BatchNormalization()\n",
    " - tf.keras.layers.Activation('swish')"
   ]
  },
  {
   "cell_type": "code",
   "execution_count": 85,
   "metadata": {},
   "outputs": [
    {
     "name": "stdout",
     "output_type": "stream",
     "text": [
      "(506, 13) (506, 1)\n"
     ]
    }
   ],
   "source": [
    "보스턴_독립 = 보스턴[['crim', 'zn', 'indus', 'chas', 'nox', \n",
    "            'rm', 'age', 'dis', 'rad', 'tax',\n",
    "            'ptratio', 'b', 'lstat']]\n",
    "보스턴_종속 = 보스턴[['medv']]\n",
    "print(보스턴_독립.shape, 보스턴_종속.shape)"
   ]
  },
  {
   "cell_type": "code",
   "execution_count": 86,
   "metadata": {},
   "outputs": [],
   "source": [
    "X = tf.keras.layers.Input(shape=[13])\n",
    "\n",
    "H = tf.keras.layers.Dense(10)(X)\n",
    "H = tf.keras.layers.BatchNormalization()(H)\n",
    "H = tf.keras.layers.Activation('swish')(H)\n",
    "\n",
    "H = tf.keras.layers.Dense(5)(H)\n",
    "H = tf.keras.layers.BatchNormalization()(H)\n",
    "H = tf.keras.layers.Activation('swish')(H)\n",
    "\n",
    "H = tf.keras.layers.Dense(3)(H)\n",
    "H = tf.keras.layers.BatchNormalization()(H)\n",
    "H = tf.keras.layers.Activation('swish')(H)\n",
    "\n",
    "Y = tf.keras.layers.Dense(1)(H)\n",
    "model = tf.keras.models.Model(X, Y)\n",
    "model.compile(loss='mse')"
   ]
  },
  {
   "cell_type": "code",
   "execution_count": 87,
   "metadata": {},
   "outputs": [
    {
     "name": "stdout",
     "output_type": "stream",
     "text": [
      "Epoch 1/10\n",
      "16/16 [==============================] - 0s 1ms/step - loss: 11.2736\n",
      "Epoch 2/10\n",
      "16/16 [==============================] - 0s 1ms/step - loss: 9.8882\n",
      "Epoch 3/10\n",
      "16/16 [==============================] - 0s 1ms/step - loss: 10.9521\n",
      "Epoch 4/10\n",
      "16/16 [==============================] - 0s 1ms/step - loss: 10.9368\n",
      "Epoch 5/10\n",
      "16/16 [==============================] - 0s 1ms/step - loss: 12.1965\n",
      "Epoch 6/10\n",
      "16/16 [==============================] - 0s 1ms/step - loss: 12.9903\n",
      "Epoch 7/10\n",
      "16/16 [==============================] - 0s 1ms/step - loss: 10.2773\n",
      "Epoch 8/10\n",
      "16/16 [==============================] - 0s 1ms/step - loss: 12.1423\n",
      "Epoch 9/10\n",
      "16/16 [==============================] - 0s 1ms/step - loss: 11.0906\n",
      "Epoch 10/10\n",
      "16/16 [==============================] - 0s 1ms/step - loss: 10.6787\n"
     ]
    },
    {
     "data": {
      "text/plain": [
       "<tensorflow.python.keras.callbacks.History at 0x2212eb363a0>"
      ]
     },
     "execution_count": 87,
     "metadata": {},
     "output_type": "execute_result"
    }
   ],
   "source": [
    "model.fit(보스턴_독립, 보스턴_종속,  epochs=1000, verbose=0)\n",
    "model.fit(보스턴_독립, 보스턴_종속,  epochs=10)"
   ]
  },
  {
   "cell_type": "code",
   "execution_count": null,
   "metadata": {},
   "outputs": [],
   "source": []
  },
  {
   "cell_type": "code",
   "execution_count": 88,
   "metadata": {
    "scrolled": false
   },
   "outputs": [
    {
     "data": {
      "text/html": [
       "<div>\n",
       "<style scoped>\n",
       "    .dataframe tbody tr th:only-of-type {\n",
       "        vertical-align: middle;\n",
       "    }\n",
       "\n",
       "    .dataframe tbody tr th {\n",
       "        vertical-align: top;\n",
       "    }\n",
       "\n",
       "    .dataframe thead th {\n",
       "        text-align: right;\n",
       "    }\n",
       "</style>\n",
       "<table border=\"1\" class=\"dataframe\">\n",
       "  <thead>\n",
       "    <tr style=\"text-align: right;\">\n",
       "      <th></th>\n",
       "      <th>꽃잎길이</th>\n",
       "      <th>꽃잎폭</th>\n",
       "      <th>꽃받침길이</th>\n",
       "      <th>꽃받침폭</th>\n",
       "      <th>품종_setosa</th>\n",
       "      <th>품종_versicolor</th>\n",
       "      <th>품종_virginica</th>\n",
       "    </tr>\n",
       "  </thead>\n",
       "  <tbody>\n",
       "    <tr>\n",
       "      <th>0</th>\n",
       "      <td>5.1</td>\n",
       "      <td>3.5</td>\n",
       "      <td>1.4</td>\n",
       "      <td>0.2</td>\n",
       "      <td>1</td>\n",
       "      <td>0</td>\n",
       "      <td>0</td>\n",
       "    </tr>\n",
       "    <tr>\n",
       "      <th>1</th>\n",
       "      <td>4.9</td>\n",
       "      <td>3.0</td>\n",
       "      <td>1.4</td>\n",
       "      <td>0.2</td>\n",
       "      <td>1</td>\n",
       "      <td>0</td>\n",
       "      <td>0</td>\n",
       "    </tr>\n",
       "    <tr>\n",
       "      <th>2</th>\n",
       "      <td>4.7</td>\n",
       "      <td>3.2</td>\n",
       "      <td>1.3</td>\n",
       "      <td>0.2</td>\n",
       "      <td>1</td>\n",
       "      <td>0</td>\n",
       "      <td>0</td>\n",
       "    </tr>\n",
       "    <tr>\n",
       "      <th>3</th>\n",
       "      <td>4.6</td>\n",
       "      <td>3.1</td>\n",
       "      <td>1.5</td>\n",
       "      <td>0.2</td>\n",
       "      <td>1</td>\n",
       "      <td>0</td>\n",
       "      <td>0</td>\n",
       "    </tr>\n",
       "    <tr>\n",
       "      <th>4</th>\n",
       "      <td>5.0</td>\n",
       "      <td>3.6</td>\n",
       "      <td>1.4</td>\n",
       "      <td>0.2</td>\n",
       "      <td>1</td>\n",
       "      <td>0</td>\n",
       "      <td>0</td>\n",
       "    </tr>\n",
       "  </tbody>\n",
       "</table>\n",
       "</div>"
      ],
      "text/plain": [
       "   꽃잎길이  꽃잎폭  꽃받침길이  꽃받침폭  품종_setosa  품종_versicolor  품종_virginica\n",
       "0   5.1  3.5    1.4   0.2          1              0             0\n",
       "1   4.9  3.0    1.4   0.2          1              0             0\n",
       "2   4.7  3.2    1.3   0.2          1              0             0\n",
       "3   4.6  3.1    1.5   0.2          1              0             0\n",
       "4   5.0  3.6    1.4   0.2          1              0             0"
      ]
     },
     "execution_count": 88,
     "metadata": {},
     "output_type": "execute_result"
    }
   ],
   "source": [
    "아이리스 = pd.read_csv(파일경로)\n",
    "아이리스 = pd.get_dummies(아이리스) #원핫인코딩 -> 범주형 데이터 변수들만 전부 원핫인코딩 된 결과로 바꿔줌\n",
    "아이리스.head()"
   ]
  },
  {
   "cell_type": "code",
   "execution_count": 93,
   "metadata": {},
   "outputs": [
    {
     "name": "stdout",
     "output_type": "stream",
     "text": [
      "(150, 4) (150, 3)\n"
     ]
    }
   ],
   "source": [
    "아이리스_독립 = 아이리스[['꽃잎길이', '꽃잎폭', '꽃받침길이', '꽃받침폭']]\n",
    "아이리스_종속 = 아이리스[['품종_setosa','품종_versicolor', '품종_virginica']]\n",
    "print(아이리스_독립.shape, 아이리스_종속.shape)"
   ]
  },
  {
   "cell_type": "code",
   "execution_count": 100,
   "metadata": {},
   "outputs": [],
   "source": [
    "X = tf.keras.layers.Input(shape=[4])\n",
    "\n",
    "H = tf.keras.layers.Dense(8)(X)\n",
    "H = tf.keras.layers.BatchNormalization()(H)\n",
    "H = tf.keras.layers.Activation('swish')(H)\n",
    "\n",
    "H = tf.keras.layers.Dense(5)(H)\n",
    "H = tf.keras.layers.BatchNormalization()(H)\n",
    "H = tf.keras.layers.Activation('swish')(H)\n",
    "\n",
    "H = tf.keras.layers.Dense(3)(H)\n",
    "H = tf.keras.layers.BatchNormalization()(H)\n",
    "H = tf.keras.layers.Activation('swish')(H)\n",
    "\n",
    "Y = tf.keras.layers.Dense(3, activation='softmax')(H) #Sigmoid, Softmax 차이는??\n",
    "model = tf.keras.models.Model(X, Y)\n",
    "model.compile(loss='categorical_crossentropy', metrics='accuracy')"
   ]
  },
  {
   "cell_type": "code",
   "execution_count": 101,
   "metadata": {
    "scrolled": true
   },
   "outputs": [
    {
     "name": "stdout",
     "output_type": "stream",
     "text": [
      "Epoch 1/10\n",
      "5/5 [==============================] - 0s 1ms/step - loss: 0.0313 - accuracy: 0.9867\n",
      "Epoch 2/10\n",
      "5/5 [==============================] - 0s 2ms/step - loss: 0.0517 - accuracy: 0.9800\n",
      "Epoch 3/10\n",
      "5/5 [==============================] - 0s 2ms/step - loss: 0.0447 - accuracy: 0.9867\n",
      "Epoch 4/10\n",
      "5/5 [==============================] - 0s 2ms/step - loss: 0.0422 - accuracy: 0.9867\n",
      "Epoch 5/10\n",
      "5/5 [==============================] - 0s 1ms/step - loss: 0.0427 - accuracy: 0.9800\n",
      "Epoch 6/10\n",
      "5/5 [==============================] - 0s 1ms/step - loss: 0.0524 - accuracy: 0.9667\n",
      "Epoch 7/10\n",
      "5/5 [==============================] - 0s 1ms/step - loss: 0.0327 - accuracy: 0.9867\n",
      "Epoch 8/10\n",
      "5/5 [==============================] - 0s 2ms/step - loss: 0.0540 - accuracy: 0.9800\n",
      "Epoch 9/10\n",
      "5/5 [==============================] - 0s 1ms/step - loss: 0.0380 - accuracy: 0.9867\n",
      "Epoch 10/10\n",
      "5/5 [==============================] - 0s 1ms/step - loss: 0.0350 - accuracy: 0.9867\n"
     ]
    },
    {
     "data": {
      "text/plain": [
       "<tensorflow.python.keras.callbacks.History at 0x221362f8ee0>"
      ]
     },
     "execution_count": 101,
     "metadata": {},
     "output_type": "execute_result"
    }
   ],
   "source": [
    "model.fit(아이리스_독립, 아이리스_종속,  epochs=1000, verbose=0)\n",
    "model.fit(아이리스_독립, 아이리스_종속,  epochs=10)"
   ]
  },
  {
   "cell_type": "code",
   "execution_count": null,
   "metadata": {},
   "outputs": [],
   "source": []
  }
 ],
 "metadata": {
  "kernelspec": {
   "display_name": "Python 3",
   "language": "python",
   "name": "python3"
  },
  "language_info": {
   "codemirror_mode": {
    "name": "ipython",
    "version": 3
   },
   "file_extension": ".py",
   "mimetype": "text/x-python",
   "name": "python",
   "nbconvert_exporter": "python",
   "pygments_lexer": "ipython3",
   "version": "3.8.5"
  }
 },
 "nbformat": 4,
 "nbformat_minor": 4
}
